{
 "cells": [
  {
   "cell_type": "code",
   "execution_count": 6,
   "id": "insured-bishop",
   "metadata": {},
   "outputs": [],
   "source": [
    "import numpy as np\n",
    "import math\n",
    "import matplotlib.pyplot as plt\n",
    "%matplotlib inline"
   ]
  },
  {
   "cell_type": "markdown",
   "id": "unknown-bracelet",
   "metadata": {},
   "source": [
    "### 2"
   ]
  },
  {
   "cell_type": "code",
   "execution_count": 16,
   "id": "tutorial-bailey",
   "metadata": {},
   "outputs": [],
   "source": [
    "# just some scratch work to calculate relative flux between planet and star\n",
    "k = 1.3807e-16 \n",
    "h = 6.6261e-27\n",
    "c = 2.998e10\n",
    "lambda_max_p = 1.062e-3 # use for both star and planet\n",
    "\n",
    "def calc_rel_flux(r_star, r_p, ts, tp):\n",
    "    planet_exponent = h * c/(tp * lambda_max_p * k)\n",
    "    star_exponent = h * c/(ts * lambda_max_p * k)\n",
    "    return ((r_p/r_star)**2) * (math.e**(star_exponent) - 1) / (math.e**(planet_exponent) - 1)"
   ]
  },
  {
   "cell_type": "code",
   "execution_count": 17,
   "id": "conventional-geography",
   "metadata": {},
   "outputs": [
    {
     "data": {
      "text/plain": [
       "1.6500958012999558e-07"
      ]
     },
     "execution_count": 17,
     "metadata": {},
     "output_type": "execute_result"
    }
   ],
   "source": [
    "calc_rel_flux(6.957e10, 6.371e8, 5500, 273)"
   ]
  },
  {
   "cell_type": "markdown",
   "id": "private-purpose",
   "metadata": {},
   "source": [
    "### 3"
   ]
  },
  {
   "cell_type": "code",
   "execution_count": 14,
   "id": "local-disease",
   "metadata": {},
   "outputs": [],
   "source": [
    "def planck_wavelength(lam, T):\n",
    "    numerator = (2*h*c**2)/(lam**5)\n",
    "    denominator = math.e**(h*c/(lam*k*T)) - 1\n",
    "    return numerator/denominator"
   ]
  },
  {
   "cell_type": "code",
   "execution_count": 52,
   "id": "banner-breast",
   "metadata": {},
   "outputs": [],
   "source": [
    "lams = np.linspace(912*1e-7, 1e-1, 1000)\n",
    "lams = np.logspace(np.log10(912*1e-7), np.log10(1e-1), 1000)\n",
    "#print(lams)"
   ]
  },
  {
   "cell_type": "code",
   "execution_count": 53,
   "id": "bottom-receptor",
   "metadata": {},
   "outputs": [
    {
     "data": {
      "image/png": "[encoded data removed]",
      "text/plain": [
       "<Figure size 432x288 with 1 Axes>"
      ]
     },
     "metadata": {
      "needs_background": "light"
     },
     "output_type": "display_data"
    }
   ],
   "source": [
    "plt.scatter(lams, planck_wavelength(lams, 100), s=5)\n",
    "plt.title('T = 100 K')\n",
    "#plt.xscale('symlog')\n",
    "plt.show()"
   ]
  },
  {
   "cell_type": "code",
   "execution_count": 54,
   "id": "clinical-activity",
   "metadata": {},
   "outputs": [
    {
     "data": {
      "image/png": "[encoded data removed]",
      "text/plain": [
       "<Figure size 432x288 with 1 Axes>"
      ]
     },
     "metadata": {
      "needs_background": "light"
     },
     "output_type": "display_data"
    }
   ],
   "source": [
    "plt.scatter(lams, planck_wavelength(lams, 10000), s=5)\n",
    "plt.title('T = 10000 K')\n",
    "#plt.xscale('symlog', linthreshx=0.1)\n",
    "plt.xlim(0, 1e-3)\n",
    "plt.show()"
   ]
  },
  {
   "cell_type": "code",
   "execution_count": null,
   "id": "economic-scholar",
   "metadata": {},
   "outputs": [],
   "source": []
  }
 ],
 "metadata": {
  "kernelspec": {
   "display_name": "Python 3 (ipykernel)",
   "language": "python",
   "name": "python3"
  },
  "language_info": {
   "codemirror_mode": {
    "name": "ipython",
    "version": 3
   },
   "file_extension": ".py",
   "mimetype": "text/x-python",
   "name": "python",
   "nbconvert_exporter": "python",
   "pygments_lexer": "ipython3",
   "version": "3.7.9"
  }
 },
 "nbformat": 4,
 "nbformat_minor": 5
}
