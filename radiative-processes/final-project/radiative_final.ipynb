{
 "cells": [
  {
   "cell_type": "code",
   "execution_count": 1,
   "id": "peaceful-syracuse",
   "metadata": {},
   "outputs": [],
   "source": [
    "import numpy as np\n",
    "import pandas as pd\n",
    "import matplotlib.pyplot as plt\n",
    "%matplotlib inline\n",
    "\n",
    "path = '/Users/chris/Desktop/uf_grad_school/uf-class-repo/radiative-processes/final-project/'"
   ]
  },
  {
   "cell_type": "code",
   "execution_count": 39,
   "id": "adolescent-finish",
   "metadata": {},
   "outputs": [],
   "source": [
    "falc_cols = ['height','tau','m','temp','turb_vel','n_H','n_p','n_e','ptot','beta','rho']\n",
    "solspect_cols = ['wave','smoothed_flux','continuum_flux','smoothed_intensity','continuum_intensity']\n",
    "\n",
    "falc_data = pd.read_csv(path+'falc.dat.txt',delimiter=r'\\s+', header=None, \n",
    "                        names=falc_cols,engine='python',comment='#')\n",
    "\n",
    "solspect_data = pd.read_csv('./solspect.dat.txt',delimiter=r'\\s+', header=None, \n",
    "                            names=solspect_cols,engine='python',comment='#')"
   ]
  },
  {
   "cell_type": "code",
   "execution_count": 40,
   "id": "purple-kingdom",
   "metadata": {},
   "outputs": [
    {
     "data": {
      "text/html": [
       "<div>\n",
       "<style scoped>\n",
       "    .dataframe tbody tr th:only-of-type {\n",
       "        vertical-align: middle;\n",
       "    }\n",
       "\n",
       "    .dataframe tbody tr th {\n",
       "        vertical-align: top;\n",
       "    }\n",
       "\n",
       "    .dataframe thead th {\n",
       "        text-align: right;\n",
       "    }\n",
       "</style>\n",
       "<table border=\"1\" class=\"dataframe\">\n",
       "  <thead>\n",
       "    <tr style=\"text-align: right;\">\n",
       "      <th></th>\n",
       "      <th>height</th>\n",
       "      <th>tau</th>\n",
       "      <th>m</th>\n",
       "      <th>temp</th>\n",
       "      <th>turb_vel</th>\n",
       "      <th>n_H</th>\n",
       "      <th>n_p</th>\n",
       "      <th>n_e</th>\n",
       "      <th>ptot</th>\n",
       "      <th>beta</th>\n",
       "      <th>rho</th>\n",
       "    </tr>\n",
       "  </thead>\n",
       "  <tbody>\n",
       "    <tr>\n",
       "      <th>0</th>\n",
       "      <td>2218.20</td>\n",
       "      <td>0.000000e+00</td>\n",
       "      <td>0.000007</td>\n",
       "      <td>100000</td>\n",
       "      <td>11.73</td>\n",
       "      <td>5.575000e+09</td>\n",
       "      <td>5.575000e+09</td>\n",
       "      <td>6.665000e+09</td>\n",
       "      <td>0.1857</td>\n",
       "      <td>0.952</td>\n",
       "      <td>1.306000e-14</td>\n",
       "    </tr>\n",
       "    <tr>\n",
       "      <th>1</th>\n",
       "      <td>2216.50</td>\n",
       "      <td>7.696000e-10</td>\n",
       "      <td>0.000007</td>\n",
       "      <td>95600</td>\n",
       "      <td>11.65</td>\n",
       "      <td>5.838000e+09</td>\n",
       "      <td>5.837000e+09</td>\n",
       "      <td>6.947000e+09</td>\n",
       "      <td>0.1857</td>\n",
       "      <td>0.950</td>\n",
       "      <td>1.368000e-14</td>\n",
       "    </tr>\n",
       "    <tr>\n",
       "      <th>2</th>\n",
       "      <td>2214.89</td>\n",
       "      <td>1.531000e-09</td>\n",
       "      <td>0.000007</td>\n",
       "      <td>90816</td>\n",
       "      <td>11.56</td>\n",
       "      <td>6.151000e+09</td>\n",
       "      <td>6.150000e+09</td>\n",
       "      <td>7.284000e+09</td>\n",
       "      <td>0.1858</td>\n",
       "      <td>0.948</td>\n",
       "      <td>1.441000e-14</td>\n",
       "    </tr>\n",
       "    <tr>\n",
       "      <th>3</th>\n",
       "      <td>2212.77</td>\n",
       "      <td>2.597000e-09</td>\n",
       "      <td>0.000007</td>\n",
       "      <td>83891</td>\n",
       "      <td>11.42</td>\n",
       "      <td>6.668000e+09</td>\n",
       "      <td>6.667000e+09</td>\n",
       "      <td>7.834000e+09</td>\n",
       "      <td>0.1859</td>\n",
       "      <td>0.945</td>\n",
       "      <td>1.562000e-14</td>\n",
       "    </tr>\n",
       "    <tr>\n",
       "      <th>4</th>\n",
       "      <td>2210.64</td>\n",
       "      <td>3.754000e-09</td>\n",
       "      <td>0.000007</td>\n",
       "      <td>75934</td>\n",
       "      <td>11.25</td>\n",
       "      <td>7.381000e+09</td>\n",
       "      <td>7.378000e+09</td>\n",
       "      <td>8.576000e+09</td>\n",
       "      <td>0.1860</td>\n",
       "      <td>0.941</td>\n",
       "      <td>1.729000e-14</td>\n",
       "    </tr>\n",
       "    <tr>\n",
       "      <th>...</th>\n",
       "      <td>...</td>\n",
       "      <td>...</td>\n",
       "      <td>...</td>\n",
       "      <td>...</td>\n",
       "      <td>...</td>\n",
       "      <td>...</td>\n",
       "      <td>...</td>\n",
       "      <td>...</td>\n",
       "      <td>...</td>\n",
       "      <td>...</td>\n",
       "      <td>...</td>\n",
       "    </tr>\n",
       "    <tr>\n",
       "      <th>75</th>\n",
       "      <td>-60.00</td>\n",
       "      <td>5.858000e+00</td>\n",
       "      <td>6.174000</td>\n",
       "      <td>8220</td>\n",
       "      <td>1.77</td>\n",
       "      <td>1.307000e+17</td>\n",
       "      <td>1.022000e+15</td>\n",
       "      <td>1.050000e+15</td>\n",
       "      <td>169100.0000</td>\n",
       "      <td>0.972</td>\n",
       "      <td>3.062000e-07</td>\n",
       "    </tr>\n",
       "    <tr>\n",
       "      <th>76</th>\n",
       "      <td>-70.00</td>\n",
       "      <td>8.362000e+00</td>\n",
       "      <td>6.481000</td>\n",
       "      <td>8540</td>\n",
       "      <td>1.79</td>\n",
       "      <td>1.317000e+17</td>\n",
       "      <td>1.515000e+15</td>\n",
       "      <td>1.546000e+15</td>\n",
       "      <td>177600.0000</td>\n",
       "      <td>0.972</td>\n",
       "      <td>3.085000e-07</td>\n",
       "    </tr>\n",
       "    <tr>\n",
       "      <th>77</th>\n",
       "      <td>-80.00</td>\n",
       "      <td>1.196000e+01</td>\n",
       "      <td>6.790000</td>\n",
       "      <td>8860</td>\n",
       "      <td>1.80</td>\n",
       "      <td>1.325000e+17</td>\n",
       "      <td>2.180000e+15</td>\n",
       "      <td>2.215000e+15</td>\n",
       "      <td>186000.0000</td>\n",
       "      <td>0.973</td>\n",
       "      <td>3.104000e-07</td>\n",
       "    </tr>\n",
       "    <tr>\n",
       "      <th>78</th>\n",
       "      <td>-90.00</td>\n",
       "      <td>1.695000e+01</td>\n",
       "      <td>7.102000</td>\n",
       "      <td>9140</td>\n",
       "      <td>1.82</td>\n",
       "      <td>1.337000e+17</td>\n",
       "      <td>2.942000e+15</td>\n",
       "      <td>2.979000e+15</td>\n",
       "      <td>194600.0000</td>\n",
       "      <td>0.973</td>\n",
       "      <td>3.134000e-07</td>\n",
       "    </tr>\n",
       "    <tr>\n",
       "      <th>79</th>\n",
       "      <td>-100.00</td>\n",
       "      <td>2.365000e+01</td>\n",
       "      <td>7.417000</td>\n",
       "      <td>9400</td>\n",
       "      <td>1.83</td>\n",
       "      <td>1.351000e+17</td>\n",
       "      <td>3.826000e+15</td>\n",
       "      <td>3.867000e+15</td>\n",
       "      <td>203200.0000</td>\n",
       "      <td>0.974</td>\n",
       "      <td>3.166000e-07</td>\n",
       "    </tr>\n",
       "  </tbody>\n",
       "</table>\n",
       "<p>80 rows × 11 columns</p>\n",
       "</div>"
      ],
      "text/plain": [
       "     height           tau         m    temp  turb_vel           n_H  \\\n",
       "0   2218.20  0.000000e+00  0.000007  100000     11.73  5.575000e+09   \n",
       "1   2216.50  7.696000e-10  0.000007   95600     11.65  5.838000e+09   \n",
       "2   2214.89  1.531000e-09  0.000007   90816     11.56  6.151000e+09   \n",
       "3   2212.77  2.597000e-09  0.000007   83891     11.42  6.668000e+09   \n",
       "4   2210.64  3.754000e-09  0.000007   75934     11.25  7.381000e+09   \n",
       "..      ...           ...       ...     ...       ...           ...   \n",
       "75   -60.00  5.858000e+00  6.174000    8220      1.77  1.307000e+17   \n",
       "76   -70.00  8.362000e+00  6.481000    8540      1.79  1.317000e+17   \n",
       "77   -80.00  1.196000e+01  6.790000    8860      1.80  1.325000e+17   \n",
       "78   -90.00  1.695000e+01  7.102000    9140      1.82  1.337000e+17   \n",
       "79  -100.00  2.365000e+01  7.417000    9400      1.83  1.351000e+17   \n",
       "\n",
       "             n_p           n_e         ptot   beta           rho  \n",
       "0   5.575000e+09  6.665000e+09       0.1857  0.952  1.306000e-14  \n",
       "1   5.837000e+09  6.947000e+09       0.1857  0.950  1.368000e-14  \n",
       "2   6.150000e+09  7.284000e+09       0.1858  0.948  1.441000e-14  \n",
       "3   6.667000e+09  7.834000e+09       0.1859  0.945  1.562000e-14  \n",
       "4   7.378000e+09  8.576000e+09       0.1860  0.941  1.729000e-14  \n",
       "..           ...           ...          ...    ...           ...  \n",
       "75  1.022000e+15  1.050000e+15  169100.0000  0.972  3.062000e-07  \n",
       "76  1.515000e+15  1.546000e+15  177600.0000  0.972  3.085000e-07  \n",
       "77  2.180000e+15  2.215000e+15  186000.0000  0.973  3.104000e-07  \n",
       "78  2.942000e+15  2.979000e+15  194600.0000  0.973  3.134000e-07  \n",
       "79  3.826000e+15  3.867000e+15  203200.0000  0.974  3.166000e-07  \n",
       "\n",
       "[80 rows x 11 columns]"
      ]
     },
     "execution_count": 40,
     "metadata": {},
     "output_type": "execute_result"
    }
   ],
   "source": [
    "falc_data"
   ]
  },
  {
   "cell_type": "markdown",
   "id": "ordinary-bermuda",
   "metadata": {},
   "source": [
    "### a"
   ]
  },
  {
   "cell_type": "code",
   "execution_count": 41,
   "id": "deadly-vacuum",
   "metadata": {},
   "outputs": [
    {
     "data": {
      "image/png": "[encoded data removed]",
      "text/plain": [
       "<Figure size 432x288 with 1 Axes>"
      ]
     },
     "metadata": {
      "needs_background": "light"
     },
     "output_type": "display_data"
    }
   ],
   "source": [
    "### part a\n",
    "plt.scatter(falc_data.height, np.log10(falc_data.temp), s=2)\n",
    "plt.title('T vs height')\n",
    "plt.ylabel('log T [K]')\n",
    "plt.xlabel('height [km]')\n",
    "plt.show()"
   ]
  },
  {
   "cell_type": "markdown",
   "id": "egyptian-translation",
   "metadata": {},
   "source": [
    "As can be seen by how the temperature profile evolves with atmosphere height, the initial drop in temperature corresponds with the photosphere; the subsequent rise from ~500 km above the surface corresponds with the chromosphere; and the abrupt rise in temperature near ~2000 km corresponds with the transition region and the corona.\n",
    "\n",
    "Absorption lines typically form in the cooler parts of the atmosphere (the top of the photosphere and bottom of the chromosphere), while emission lines typically form in the hotter parts of the atmosphere (the upper chromosphere and the corona)."
   ]
  },
  {
   "cell_type": "markdown",
   "id": "binary-prevention",
   "metadata": {},
   "source": [
    "### b"
   ]
  },
  {
   "cell_type": "code",
   "execution_count": 42,
   "id": "supported-settlement",
   "metadata": {},
   "outputs": [
    {
     "name": "stderr",
     "output_type": "stream",
     "text": [
      "/Users/chris/anaconda2/envs/superflare/lib/python3.7/site-packages/pandas/core/series.py:726: RuntimeWarning: divide by zero encountered in log10\n",
      "  result = getattr(ufunc, method)(*inputs, **kwargs)\n"
     ]
    },
    {
     "data": {
      "image/png": "[encoded data removed]",
      "text/plain": [
       "<Figure size 432x288 with 1 Axes>"
      ]
     },
     "metadata": {
      "needs_background": "light"
     },
     "output_type": "display_data"
    },
    {
     "name": "stderr",
     "output_type": "stream",
     "text": [
      "/Users/chris/anaconda2/envs/superflare/lib/python3.7/site-packages/pandas/core/series.py:726: RuntimeWarning: divide by zero encountered in log10\n",
      "  result = getattr(ufunc, method)(*inputs, **kwargs)\n"
     ]
    },
    {
     "name": "stdout",
     "output_type": "stream",
     "text": [
      "    height     tau      m  temp  turb_vel           n_H           n_p  \\\n",
      "67    20.0  0.6746  3.869  6180      1.52  1.098000e+17  2.588000e+13   \n",
      "\n",
      "             n_e      ptot   beta           rho  \n",
      "67  4.064000e+13  106000.0  0.972  2.572000e-07  \n"
     ]
    },
    {
     "data": {
      "image/png": "[encoded data removed]",
      "text/plain": [
       "<Figure size 432x288 with 1 Axes>"
      ]
     },
     "metadata": {
      "needs_background": "light"
     },
     "output_type": "display_data"
    }
   ],
   "source": [
    "### part b\n",
    "plt.scatter(np.log10(falc_data.tau), np.log10(falc_data.temp), s=2)\n",
    "plt.title('T vs optical depth')\n",
    "plt.ylabel('log T [K]')\n",
    "plt.xlabel(r'log $\\tau$')\n",
    "plt.gca().invert_xaxis()\n",
    "plt.show()\n",
    "\n",
    "### compare this to grey atmosphere using Eddington-Milne approximation\n",
    "# find row with tau closest to 2/3 for Teff\n",
    "where_is_tau_two_thirds = falc_data.loc[(falc_data.tau > 0.63) & (falc_data.tau < 0.68)].index[0]\n",
    "print(falc_data.loc[(falc_data.tau > 0.63) & (falc_data.tau < 0.68)])\n",
    "\n",
    "# find teff, aka temp at tau=2/3 in order to calcluate grey atmosphere\n",
    "teff = falc_data.iloc[where_is_tau_two_thirds].temp \n",
    "def grey_atm(tau, teff):\n",
    "    temp = teff*(0.75*tau + 0.5)**0.25\n",
    "    \n",
    "    return temp\n",
    "\n",
    "grey_atm_temp = grey_atm(falc_data.tau, teff)\n",
    "plt.scatter(np.log10(falc_data.tau), np.log10(grey_atm_temp), s=2)\n",
    "#plt.scatter(np.log10(falc_data.tau), grey_atm(falc_data.tau, teff), s=2)\n",
    "plt.title('Grey atmosphere temp vs optical depth')\n",
    "plt.ylabel('log T [K]')\n",
    "plt.xlabel(r'log $\\tau$')\n",
    "plt.gca().invert_xaxis()\n",
    "plt.show()"
   ]
  },
  {
   "cell_type": "markdown",
   "id": "amended-mortality",
   "metadata": {},
   "source": [
    "A grey atmosphere using the Eddington-Milne approximation appropriately models the photosphere but fails to model the subsequent rise in temperature in the chromosphere, transition region, and corona. "
   ]
  },
  {
   "cell_type": "markdown",
   "id": "legitimate-living",
   "metadata": {},
   "source": [
    "### c"
   ]
  },
  {
   "cell_type": "code",
   "execution_count": 119,
   "id": "accessory-affairs",
   "metadata": {},
   "outputs": [
    {
     "data": {
      "image/png": "[encoded data removed]",
      "text/plain": [
       "<Figure size 432x288 with 1 Axes>"
      ]
     },
     "metadata": {
      "needs_background": "light"
     },
     "output_type": "display_data"
    }
   ],
   "source": [
    "#plt.scatter(falc_data.height, np.log10(falc_data.n_p), s=2, label='np')\n",
    "#plt.scatter(falc_data.height, np.log10(falc_data.n_e), s=2, label='ne')\n",
    "#plt.scatter(falc_data.height, np.log10(falc_data.n_H), s=2, label='nH')\n",
    "#plt.plot(falc_data.height, np.log10(falc_data.n_p), label='np')\n",
    "#plt.plot(falc_data.height, np.log10(falc_data.n_e), label='ne')\n",
    "#plt.plot(falc_data.height, np.log10(falc_data.n_H), label='nH')\n",
    "plt.scatter(falc_data.height, falc_data.n_p, s=2, label='np')\n",
    "plt.scatter(falc_data.height, falc_data.n_e, s=2, label='ne')\n",
    "plt.scatter(falc_data.height, falc_data.n_H, s=2, label='nH')\n",
    "plt.title('log number densities with height')\n",
    "plt.xlabel('height [km]')\n",
    "plt.ylabel('log number density [#/cm^3]')\n",
    "plt.legend()\n",
    "plt.yscale('log')\n",
    "plt.show()"
   ]
  },
  {
   "cell_type": "markdown",
   "id": "beautiful-meter",
   "metadata": {},
   "source": [
    "The number density of protons drops going higher up the photosphere and then increases until the temperature in the chromosphere gets high enough to ionize hydrogen again. This makes sense because protons (H+) are the same as ionized hydrogen, so this ionization should increase the proton number density. The threshold at which this occurs is the height where $n_p$ and $n_e$ coincide. Of course, this means $n_H$ decreases, since the supply of neutral hydrogen is being ionized - although the overall number density of particles should decrease with height, as optical depth decreases. This is corroborated by noting how the ionization fraction profile is similar to the temperature-height profile. "
   ]
  },
  {
   "cell_type": "code",
   "execution_count": 118,
   "id": "domestic-rating",
   "metadata": {},
   "outputs": [
    {
     "data": {
      "image/png": "[encoded data removed]",
      "text/plain": [
       "<Figure size 432x288 with 1 Axes>"
      ]
     },
     "metadata": {
      "needs_background": "light"
     },
     "output_type": "display_data"
    }
   ],
   "source": [
    "plt.scatter(falc_data.height, falc_data.n_p/(falc_data.n_H+falc_data.n_p), s=2)\n",
    "plt.title('ionization fraction with height')\n",
    "plt.xlabel('height [km]')\n",
    "plt.ylabel('log ionization fraction')\n",
    "plt.yscale('log')\n",
    "plt.show()"
   ]
  },
  {
   "cell_type": "markdown",
   "id": "liberal-peoples",
   "metadata": {},
   "source": [
    "### d"
   ]
  },
  {
   "cell_type": "code",
   "execution_count": 117,
   "id": "blessed-prayer",
   "metadata": {},
   "outputs": [
    {
     "data": {
      "image/png": "[encoded data removed]",
      "text/plain": [
       "<Figure size 432x288 with 1 Axes>"
      ]
     },
     "metadata": {
      "needs_background": "light"
     },
     "output_type": "display_data"
    }
   ],
   "source": [
    "plt.scatter(falc_data.height, falc_data.rho, s=2)\n",
    "plt.title('density with height')\n",
    "plt.xlabel('height [km]')\n",
    "plt.ylabel('density [g/cm^3]')\n",
    "#plt.yscale('log')\n",
    "plt.show()"
   ]
  },
  {
   "cell_type": "code",
   "execution_count": 116,
   "id": "cross-timing",
   "metadata": {},
   "outputs": [
    {
     "name": "stdout",
     "output_type": "stream",
     "text": [
      "2.771e-07\n"
     ]
    },
    {
     "data": {
      "image/png": "[encoded data removed]",
      "text/plain": [
       "<Figure size 432x288 with 1 Axes>"
      ]
     },
     "metadata": {
      "needs_background": "light"
     },
     "output_type": "display_data"
    },
    {
     "name": "stdout",
     "output_type": "stream",
     "text": [
      "solar radius in H_rhos:  4971.428571428572\n",
      "solar atmosphere in H_rhos:  16.558571428571426\n"
     ]
    }
   ],
   "source": [
    "rho0 = falc_data.loc[falc_data.height==0.0].rho[69]\n",
    "print(rho0)\n",
    "def rho(height, H_rho):\n",
    "    #print(height)\n",
    "    #print(rho0*np.exp(-height/H_rho))\n",
    "    return rho0*np.exp(-height/H_rho)\n",
    "\n",
    "plt.scatter(falc_data.height, falc_data.rho, s=2)\n",
    "plt.scatter(falc_data.height, rho(falc_data.height, 140), s=2) \n",
    "plt.title('density with height')\n",
    "plt.xlabel('height [km]')\n",
    "plt.ylabel('log density [g/cm^3]')\n",
    "plt.yscale('log')\n",
    "plt.show()\n",
    "\n",
    "solar_radius = 696000 # km\n",
    "print(\"solar radius in H_rhos: \", solar_radius/140)\n",
    "print(\"solar atmosphere in H_rhos: \", (max(falc_data.height)-min(falc_data.height))/140)"
   ]
  },
  {
   "cell_type": "markdown",
   "id": "governing-static",
   "metadata": {},
   "source": [
    "After trying multiple scale height values, I settled on 140 km as the value that best fits (by eye) the density-height profile. This results in a scale height that's 1/5000th of the radius of the Sun, or 1/17th the Solar atmosphere. "
   ]
  },
  {
   "cell_type": "markdown",
   "id": "activated-granny",
   "metadata": {},
   "source": [
    "### e"
   ]
  },
  {
   "cell_type": "code",
   "execution_count": 131,
   "id": "respected-result",
   "metadata": {},
   "outputs": [
    {
     "name": "stdout",
     "output_type": "stream",
     "text": [
      "0          0.076974\n",
      "1          0.077059\n",
      "2          0.077127\n",
      "3          0.077234\n",
      "4          0.077384\n",
      "          ...      \n",
      "75    148336.056780\n",
      "76    155289.814260\n",
      "77    162087.276500\n",
      "78    168724.025260\n",
      "79    175340.615800\n",
      "Length: 80, dtype: float64\n"
     ]
    },
    {
     "data": {
      "image/png": "[encoded data removed]",
      "text/plain": [
       "<Figure size 432x288 with 1 Axes>"
      ]
     },
     "metadata": {
      "needs_background": "light"
     },
     "output_type": "display_data"
    }
   ],
   "source": [
    "def ideal_gas_pressure(n, T): # pressure = n*k*T\n",
    "    kB = 1.3807e-16 # cm^2 g s^-2 K^-1\n",
    "    return n*kB*T\n",
    "\n",
    "print(ideal_gas_pressure(falc_data.n_H, falc_data.temp))\n",
    "plt.scatter(falc_data.height, falc_data.ptot, s=2, label='$P_{tot}$')\n",
    "#plt.scatter(falc_data.height, ideal_gas_pressure(falc_data.n_H, falc_data.temp), s=2, label='$P_{gas, H-only}$') \n",
    "plt.scatter(falc_data.height, ideal_gas_pressure(falc_data.n_H+falc_data.n_e, # since H includes free protons\n",
    "                                                 falc_data.temp), s=2, label='$P_{gas, all}$') \n",
    "\n",
    "plt.title('pressure with height')\n",
    "plt.xlabel('height [km]')\n",
    "plt.ylabel('log pressure [dyne/cm^2]')\n",
    "plt.yscale('log')\n",
    "plt.legend()\n",
    "plt.show()"
   ]
  },
  {
   "cell_type": "markdown",
   "id": "secondary-productivity",
   "metadata": {},
   "source": [
    "Using the number density for HI only to calculate the ideal gas pressure results in underestimating the pressure at the surface of the atmosphere (compared to the model), which makes sense because I'm not counting the contribution to the pressure from the protons and electrons. Adding them in makes my ideal gas pressure profile match up to that of the model."
   ]
  },
  {
   "cell_type": "markdown",
   "id": "japanese-sunglasses",
   "metadata": {},
   "source": [
    "### f"
   ]
  },
  {
   "cell_type": "code",
   "execution_count": 137,
   "id": "secret-grave",
   "metadata": {},
   "outputs": [
    {
     "data": {
      "image/png": "[encoded data removed]",
      "text/plain": [
       "<Figure size 432x288 with 1 Axes>"
      ]
     },
     "metadata": {
      "needs_background": "light"
     },
     "output_type": "display_data"
    }
   ],
   "source": [
    "plt.scatter(falc_data.height, falc_data.beta, s=2, label=r'$\\beta$')\n",
    "plt.scatter(falc_data.height, ideal_gas_pressure(falc_data.n_H+falc_data.n_e, \n",
    "                                                 falc_data.temp)/falc_data.ptot, s=2, label='ideal gas ratio') \n",
    "#plt.scatter(falc_data.height, ideal_gas_pressure(falc_data.n_H, \n",
    "#                                                 falc_data.temp)/falc_data.ptot, s=2, label='ideal gas ratio w/H') \n",
    "plt.title('β with height')\n",
    "plt.xlabel('height [km]')\n",
    "plt.ylabel('β')\n",
    "#plt.yscale('log')\n",
    "plt.legend()\n",
    "plt.show()"
   ]
  },
  {
   "cell_type": "markdown",
   "id": "obvious-mandate",
   "metadata": {},
   "source": [
    "The $P_{gas}$ to $P_{tot}$ ratios follow the same profile, modulo some contribution, presumably from radiation. The ideal gas ratio may underpredict $P_{gas}$ closer to the surface because the ideal gas law assumes that the distance between particles is much larger than particle sizes, which is consistent with how the two ratios converge as the atmosphere density decreases with height."
   ]
  },
  {
   "cell_type": "markdown",
   "id": "operational-louis",
   "metadata": {},
   "source": [
    "### g"
   ]
  },
  {
   "cell_type": "code",
   "execution_count": 139,
   "id": "remarkable-article",
   "metadata": {},
   "outputs": [
    {
     "data": {
      "image/png": "[encoded data removed]",
      "text/plain": [
       "<Figure size 432x288 with 1 Axes>"
      ]
     },
     "metadata": {
      "needs_background": "light"
     },
     "output_type": "display_data"
    },
    {
     "name": "stdout",
     "output_type": "stream",
     "text": [
      "model assumed surface gravity of:  27398.185100288993\n"
     ]
    }
   ],
   "source": [
    "plt.scatter(falc_data.m, falc_data.ptot, s=2)\n",
    "plt.title('$P_{tot}$ with mass column density')\n",
    "plt.xlabel('mass column density [g/cm^2]')\n",
    "plt.ylabel('$P_{tot}$ [dyne/cm^2]')\n",
    "#plt.yscale('log')\n",
    "plt.show()\n",
    "\n",
    "print(\"model assumed surface gravity of: \", np.mean(falc_data.ptot/falc_data.m))"
   ]
  },
  {
   "cell_type": "markdown",
   "id": "analyzed-affect",
   "metadata": {},
   "source": [
    "### h"
   ]
  },
  {
   "cell_type": "code",
   "execution_count": null,
   "id": "incoming-credits",
   "metadata": {},
   "outputs": [],
   "source": []
  }
 ],
 "metadata": {
  "kernelspec": {
   "display_name": "Python 3 (ipykernel)",
   "language": "python",
   "name": "python3"
  },
  "language_info": {
   "codemirror_mode": {
    "name": "ipython",
    "version": 3
   },
   "file_extension": ".py",
   "mimetype": "text/x-python",
   "name": "python",
   "nbconvert_exporter": "python",
   "pygments_lexer": "ipython3",
   "version": "3.7.9"
  }
 },
 "nbformat": 4,
 "nbformat_minor": 5
}
