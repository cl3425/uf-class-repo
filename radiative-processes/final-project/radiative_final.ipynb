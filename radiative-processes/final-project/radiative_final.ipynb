{
 "cells": [
  {
   "cell_type": "code",
   "execution_count": 1,
   "id": "coordinated-technician",
   "metadata": {},
   "outputs": [],
   "source": [
    "import numpy as np\n",
    "import pandas as pd\n",
    "import matplotlib.pyplot as plt\n",
    "%matplotlib inline\n",
    "\n",
    "path = '/Users/chris/Desktop/uf_grad_school/uf-class-repo/radiative-processes/final-project/'"
   ]
  },
  {
   "cell_type": "code",
   "execution_count": 39,
   "id": "worldwide-ordering",
   "metadata": {},
   "outputs": [],
   "source": [
    "falc_cols = ['height','tau','m','temp','turb_vel','n_H','n_p','n_e','ptot','beta','rho']\n",
    "solspect_cols = ['wave','smoothed_flux','continuum_flux','smoothed_intensity','continuum_intensity']\n",
    "\n",
    "falc_data = pd.read_csv(path+'falc.dat.txt',delimiter=r'\\s+', header=None, \n",
    "                        names=falc_cols,engine='python',comment='#')\n",
    "\n",
    "solspect_data = pd.read_csv('./solspect.dat.txt',delimiter=r'\\s+', header=None, \n",
    "                            names=solspect_cols,engine='python',comment='#')"
   ]
  },
  {
   "cell_type": "code",
   "execution_count": 40,
   "id": "fatty-scheme",
   "metadata": {},
   "outputs": [
    {
     "data": {
      "text/html": [
       "<div>\n",
       "<style scoped>\n",
       "    .dataframe tbody tr th:only-of-type {\n",
       "        vertical-align: middle;\n",
       "    }\n",
       "\n",
       "    .dataframe tbody tr th {\n",
       "        vertical-align: top;\n",
       "    }\n",
       "\n",
       "    .dataframe thead th {\n",
       "        text-align: right;\n",
       "    }\n",
       "</style>\n",
       "<table border=\"1\" class=\"dataframe\">\n",
       "  <thead>\n",
       "    <tr style=\"text-align: right;\">\n",
       "      <th></th>\n",
       "      <th>height</th>\n",
       "      <th>tau</th>\n",
       "      <th>m</th>\n",
       "      <th>temp</th>\n",
       "      <th>turb_vel</th>\n",
       "      <th>n_H</th>\n",
       "      <th>n_p</th>\n",
       "      <th>n_e</th>\n",
       "      <th>ptot</th>\n",
       "      <th>beta</th>\n",
       "      <th>rho</th>\n",
       "    </tr>\n",
       "  </thead>\n",
       "  <tbody>\n",
       "    <tr>\n",
       "      <th>0</th>\n",
       "      <td>2218.20</td>\n",
       "      <td>0.000000e+00</td>\n",
       "      <td>0.000007</td>\n",
       "      <td>100000</td>\n",
       "      <td>11.73</td>\n",
       "      <td>5.575000e+09</td>\n",
       "      <td>5.575000e+09</td>\n",
       "      <td>6.665000e+09</td>\n",
       "      <td>0.1857</td>\n",
       "      <td>0.952</td>\n",
       "      <td>1.306000e-14</td>\n",
       "    </tr>\n",
       "    <tr>\n",
       "      <th>1</th>\n",
       "      <td>2216.50</td>\n",
       "      <td>7.696000e-10</td>\n",
       "      <td>0.000007</td>\n",
       "      <td>95600</td>\n",
       "      <td>11.65</td>\n",
       "      <td>5.838000e+09</td>\n",
       "      <td>5.837000e+09</td>\n",
       "      <td>6.947000e+09</td>\n",
       "      <td>0.1857</td>\n",
       "      <td>0.950</td>\n",
       "      <td>1.368000e-14</td>\n",
       "    </tr>\n",
       "    <tr>\n",
       "      <th>2</th>\n",
       "      <td>2214.89</td>\n",
       "      <td>1.531000e-09</td>\n",
       "      <td>0.000007</td>\n",
       "      <td>90816</td>\n",
       "      <td>11.56</td>\n",
       "      <td>6.151000e+09</td>\n",
       "      <td>6.150000e+09</td>\n",
       "      <td>7.284000e+09</td>\n",
       "      <td>0.1858</td>\n",
       "      <td>0.948</td>\n",
       "      <td>1.441000e-14</td>\n",
       "    </tr>\n",
       "    <tr>\n",
       "      <th>3</th>\n",
       "      <td>2212.77</td>\n",
       "      <td>2.597000e-09</td>\n",
       "      <td>0.000007</td>\n",
       "      <td>83891</td>\n",
       "      <td>11.42</td>\n",
       "      <td>6.668000e+09</td>\n",
       "      <td>6.667000e+09</td>\n",
       "      <td>7.834000e+09</td>\n",
       "      <td>0.1859</td>\n",
       "      <td>0.945</td>\n",
       "      <td>1.562000e-14</td>\n",
       "    </tr>\n",
       "    <tr>\n",
       "      <th>4</th>\n",
       "      <td>2210.64</td>\n",
       "      <td>3.754000e-09</td>\n",
       "      <td>0.000007</td>\n",
       "      <td>75934</td>\n",
       "      <td>11.25</td>\n",
       "      <td>7.381000e+09</td>\n",
       "      <td>7.378000e+09</td>\n",
       "      <td>8.576000e+09</td>\n",
       "      <td>0.1860</td>\n",
       "      <td>0.941</td>\n",
       "      <td>1.729000e-14</td>\n",
       "    </tr>\n",
       "    <tr>\n",
       "      <th>...</th>\n",
       "      <td>...</td>\n",
       "      <td>...</td>\n",
       "      <td>...</td>\n",
       "      <td>...</td>\n",
       "      <td>...</td>\n",
       "      <td>...</td>\n",
       "      <td>...</td>\n",
       "      <td>...</td>\n",
       "      <td>...</td>\n",
       "      <td>...</td>\n",
       "      <td>...</td>\n",
       "    </tr>\n",
       "    <tr>\n",
       "      <th>75</th>\n",
       "      <td>-60.00</td>\n",
       "      <td>5.858000e+00</td>\n",
       "      <td>6.174000</td>\n",
       "      <td>8220</td>\n",
       "      <td>1.77</td>\n",
       "      <td>1.307000e+17</td>\n",
       "      <td>1.022000e+15</td>\n",
       "      <td>1.050000e+15</td>\n",
       "      <td>169100.0000</td>\n",
       "      <td>0.972</td>\n",
       "      <td>3.062000e-07</td>\n",
       "    </tr>\n",
       "    <tr>\n",
       "      <th>76</th>\n",
       "      <td>-70.00</td>\n",
       "      <td>8.362000e+00</td>\n",
       "      <td>6.481000</td>\n",
       "      <td>8540</td>\n",
       "      <td>1.79</td>\n",
       "      <td>1.317000e+17</td>\n",
       "      <td>1.515000e+15</td>\n",
       "      <td>1.546000e+15</td>\n",
       "      <td>177600.0000</td>\n",
       "      <td>0.972</td>\n",
       "      <td>3.085000e-07</td>\n",
       "    </tr>\n",
       "    <tr>\n",
       "      <th>77</th>\n",
       "      <td>-80.00</td>\n",
       "      <td>1.196000e+01</td>\n",
       "      <td>6.790000</td>\n",
       "      <td>8860</td>\n",
       "      <td>1.80</td>\n",
       "      <td>1.325000e+17</td>\n",
       "      <td>2.180000e+15</td>\n",
       "      <td>2.215000e+15</td>\n",
       "      <td>186000.0000</td>\n",
       "      <td>0.973</td>\n",
       "      <td>3.104000e-07</td>\n",
       "    </tr>\n",
       "    <tr>\n",
       "      <th>78</th>\n",
       "      <td>-90.00</td>\n",
       "      <td>1.695000e+01</td>\n",
       "      <td>7.102000</td>\n",
       "      <td>9140</td>\n",
       "      <td>1.82</td>\n",
       "      <td>1.337000e+17</td>\n",
       "      <td>2.942000e+15</td>\n",
       "      <td>2.979000e+15</td>\n",
       "      <td>194600.0000</td>\n",
       "      <td>0.973</td>\n",
       "      <td>3.134000e-07</td>\n",
       "    </tr>\n",
       "    <tr>\n",
       "      <th>79</th>\n",
       "      <td>-100.00</td>\n",
       "      <td>2.365000e+01</td>\n",
       "      <td>7.417000</td>\n",
       "      <td>9400</td>\n",
       "      <td>1.83</td>\n",
       "      <td>1.351000e+17</td>\n",
       "      <td>3.826000e+15</td>\n",
       "      <td>3.867000e+15</td>\n",
       "      <td>203200.0000</td>\n",
       "      <td>0.974</td>\n",
       "      <td>3.166000e-07</td>\n",
       "    </tr>\n",
       "  </tbody>\n",
       "</table>\n",
       "<p>80 rows × 11 columns</p>\n",
       "</div>"
      ],
      "text/plain": [
       "     height           tau         m    temp  turb_vel           n_H  \\\n",
       "0   2218.20  0.000000e+00  0.000007  100000     11.73  5.575000e+09   \n",
       "1   2216.50  7.696000e-10  0.000007   95600     11.65  5.838000e+09   \n",
       "2   2214.89  1.531000e-09  0.000007   90816     11.56  6.151000e+09   \n",
       "3   2212.77  2.597000e-09  0.000007   83891     11.42  6.668000e+09   \n",
       "4   2210.64  3.754000e-09  0.000007   75934     11.25  7.381000e+09   \n",
       "..      ...           ...       ...     ...       ...           ...   \n",
       "75   -60.00  5.858000e+00  6.174000    8220      1.77  1.307000e+17   \n",
       "76   -70.00  8.362000e+00  6.481000    8540      1.79  1.317000e+17   \n",
       "77   -80.00  1.196000e+01  6.790000    8860      1.80  1.325000e+17   \n",
       "78   -90.00  1.695000e+01  7.102000    9140      1.82  1.337000e+17   \n",
       "79  -100.00  2.365000e+01  7.417000    9400      1.83  1.351000e+17   \n",
       "\n",
       "             n_p           n_e         ptot   beta           rho  \n",
       "0   5.575000e+09  6.665000e+09       0.1857  0.952  1.306000e-14  \n",
       "1   5.837000e+09  6.947000e+09       0.1857  0.950  1.368000e-14  \n",
       "2   6.150000e+09  7.284000e+09       0.1858  0.948  1.441000e-14  \n",
       "3   6.667000e+09  7.834000e+09       0.1859  0.945  1.562000e-14  \n",
       "4   7.378000e+09  8.576000e+09       0.1860  0.941  1.729000e-14  \n",
       "..           ...           ...          ...    ...           ...  \n",
       "75  1.022000e+15  1.050000e+15  169100.0000  0.972  3.062000e-07  \n",
       "76  1.515000e+15  1.546000e+15  177600.0000  0.972  3.085000e-07  \n",
       "77  2.180000e+15  2.215000e+15  186000.0000  0.973  3.104000e-07  \n",
       "78  2.942000e+15  2.979000e+15  194600.0000  0.973  3.134000e-07  \n",
       "79  3.826000e+15  3.867000e+15  203200.0000  0.974  3.166000e-07  \n",
       "\n",
       "[80 rows x 11 columns]"
      ]
     },
     "execution_count": 40,
     "metadata": {},
     "output_type": "execute_result"
    }
   ],
   "source": [
    "falc_data"
   ]
  },
  {
   "cell_type": "markdown",
   "id": "stone-chuck",
   "metadata": {},
   "source": [
    "### Part I"
   ]
  },
  {
   "cell_type": "markdown",
   "id": "beginning-elephant",
   "metadata": {},
   "source": [
    "### a"
   ]
  },
  {
   "cell_type": "code",
   "execution_count": 195,
   "id": "brown-acrylic",
   "metadata": {},
   "outputs": [
    {
     "data": {
      "image/png": "[encoded data removed]",
      "text/plain": [
       "<Figure size 432x288 with 1 Axes>"
      ]
     },
     "metadata": {
      "needs_background": "light"
     },
     "output_type": "display_data"
    }
   ],
   "source": [
    "### part a\n",
    "plt.scatter(falc_data.height, np.log10(falc_data.temp), s=2)\n",
    "plt.vlines([400], min(np.log10(falc_data.temp)), max(np.log10(falc_data.temp)), colors='r', label='upper photosphere')\n",
    "plt.vlines([2100], min(np.log10(falc_data.temp)), max(np.log10(falc_data.temp)), colors='orange', label='upper chromosphere')\n",
    "plt.title('T vs height')\n",
    "plt.ylabel('log T [K]')\n",
    "plt.xlabel('height [km]')\n",
    "plt.legend()\n",
    "plt.show()"
   ]
  },
  {
   "cell_type": "markdown",
   "id": "modified-spank",
   "metadata": {},
   "source": [
    "As can be seen by how the temperature profile evolves with atmosphere height, the initial drop in temperature corresponds with the photosphere; the subsequent rise from ~500 km above the surface corresponds with the chromosphere; and the abrupt rise in temperature near ~2000 km corresponds with the transition region and the corona.\n",
    "\n",
    "Absorption lines typically form in the cooler parts of the atmosphere (the top of the photosphere and bottom of the chromosphere), while emission lines typically form in the hotter parts of the atmosphere (the upper chromosphere and the corona)."
   ]
  },
  {
   "cell_type": "markdown",
   "id": "turkish-bread",
   "metadata": {},
   "source": [
    "### b"
   ]
  },
  {
   "cell_type": "code",
   "execution_count": 164,
   "id": "promising-cargo",
   "metadata": {},
   "outputs": [
    {
     "name": "stdout",
     "output_type": "stream",
     "text": [
      "    height     tau      m  temp  turb_vel           n_H           n_p  \\\n",
      "67    20.0  0.6746  3.869  6180      1.52  1.098000e+17  2.588000e+13   \n",
      "\n",
      "             n_e      ptot   beta           rho  \n",
      "67  4.064000e+13  106000.0  0.972  2.572000e-07  \n"
     ]
    },
    {
     "name": "stderr",
     "output_type": "stream",
     "text": [
      "/Users/chris/anaconda2/envs/superflare/lib/python3.7/site-packages/pandas/core/series.py:726: RuntimeWarning: divide by zero encountered in log10\n",
      "  result = getattr(ufunc, method)(*inputs, **kwargs)\n"
     ]
    },
    {
     "data": {
      "image/png": "[encoded data removed]",
      "text/plain": [
       "<Figure size 432x288 with 1 Axes>"
      ]
     },
     "metadata": {
      "needs_background": "light"
     },
     "output_type": "display_data"
    }
   ],
   "source": [
    "### part b\n",
    "\"\"\"\n",
    "plt.scatter(np.log10(falc_data.tau), np.log10(falc_data.temp), s=2)\n",
    "plt.title('T vs optical depth')\n",
    "plt.ylabel('log T [K]')\n",
    "plt.xlabel(r'log $\\tau$')\n",
    "plt.gca().invert_xaxis()\n",
    "plt.show()\n",
    "\"\"\"\n",
    "\n",
    "### compare this to grey atmosphere using Eddington-Milne approximation\n",
    "# find row with tau closest to 2/3 for Teff\n",
    "where_is_tau_two_thirds = falc_data.loc[(falc_data.tau > 0.63) & (falc_data.tau < 0.68)].index[0]\n",
    "print(falc_data.loc[(falc_data.tau > 0.63) & (falc_data.tau < 0.68)])\n",
    "\n",
    "# find teff, aka temp at tau=2/3 in order to calcluate grey atmosphere\n",
    "teff = falc_data.iloc[where_is_tau_two_thirds].temp \n",
    "def grey_atm(tau, teff):\n",
    "    temp = teff*(0.75*tau + 0.5)**0.25\n",
    "    \n",
    "    return temp\n",
    "\n",
    "grey_atm_temp = grey_atm(falc_data.tau, teff)\n",
    "plt.scatter(np.log10(falc_data.tau), np.log10(falc_data.temp), s=2, label='model')\n",
    "plt.scatter(np.log10(falc_data.tau), np.log10(grey_atm_temp), s=2, label='grey')\n",
    "#plt.scatter(np.log10(falc_data.tau), grey_atm(falc_data.tau, teff), s=2)\n",
    "plt.title('Grey atmosphere vs model temp with optical depth')\n",
    "plt.ylabel('log T [K]')\n",
    "plt.xlabel(r'log $\\tau$')\n",
    "plt.gca().invert_xaxis()\n",
    "plt.legend()\n",
    "plt.show()"
   ]
  },
  {
   "cell_type": "markdown",
   "id": "caroline-solomon",
   "metadata": {},
   "source": [
    "A grey atmosphere using the Eddington-Milne approximation appropriately models the photosphere but fails to model the subsequent rise in temperature in the chromosphere, transition region, and corona. "
   ]
  },
  {
   "cell_type": "markdown",
   "id": "seventh-premises",
   "metadata": {},
   "source": [
    "### c"
   ]
  },
  {
   "cell_type": "code",
   "execution_count": 155,
   "id": "sixth-roman",
   "metadata": {},
   "outputs": [
    {
     "data": {
      "image/png": "[encoded data removed]",
      "text/plain": [
       "<Figure size 432x288 with 1 Axes>"
      ]
     },
     "metadata": {
      "needs_background": "light"
     },
     "output_type": "display_data"
    }
   ],
   "source": [
    "#plt.scatter(falc_data.height, np.log10(falc_data.n_p), s=2, label='np')\n",
    "#plt.scatter(falc_data.height, np.log10(falc_data.n_e), s=2, label='ne')\n",
    "#plt.scatter(falc_data.height, np.log10(falc_data.n_H), s=2, label='nH')\n",
    "#plt.plot(falc_data.height, np.log10(falc_data.n_p), label='np')\n",
    "#plt.plot(falc_data.height, np.log10(falc_data.n_e), label='ne')\n",
    "#plt.plot(falc_data.height, np.log10(falc_data.n_H), label='nH')\n",
    "plt.scatter(falc_data.height, falc_data.n_p, s=2, label='np')\n",
    "plt.scatter(falc_data.height, falc_data.n_e, s=2, label='ne')\n",
    "plt.scatter(falc_data.height, falc_data.n_H, s=2, label='nH')\n",
    "plt.title('log number densities with height')\n",
    "plt.xlabel('height [km]')\n",
    "plt.ylabel('log number density [#/cm^3]')\n",
    "plt.legend()\n",
    "plt.yscale('log')\n",
    "#plt.xscale('log')\n",
    "plt.show()"
   ]
  },
  {
   "cell_type": "markdown",
   "id": "wooden-wrestling",
   "metadata": {},
   "source": [
    "The number density of protons drops going higher up the photosphere and then increases until the temperature in the chromosphere gets high enough to ionize hydrogen again. This makes sense because protons (H+) are the same as ionized hydrogen, so this ionization should increase the proton number density. The threshold at which this occurs is the height where $n_p$ and $n_e$ coincide. Of course, this means $n_H$ decreases, since the supply of neutral hydrogen is being ionized - although the overall number density of particles should decrease with height, as optical depth decreases. This is corroborated by noting how the ionization fraction profile is similar to the temperature-height profile. "
   ]
  },
  {
   "cell_type": "code",
   "execution_count": 157,
   "id": "formed-saint",
   "metadata": {},
   "outputs": [
    {
     "data": {
      "image/png": "[encoded data removed]",
      "text/plain": [
       "<Figure size 432x288 with 1 Axes>"
      ]
     },
     "metadata": {
      "needs_background": "light"
     },
     "output_type": "display_data"
    }
   ],
   "source": [
    "plt.scatter(falc_data.height, falc_data.n_p/(falc_data.n_H+falc_data.n_p), s=2)\n",
    "plt.title('ionization fraction with height')\n",
    "plt.xlabel('height [km]')\n",
    "plt.ylabel('log ionization fraction')\n",
    "plt.yscale('log')\n",
    "#plt.xscale('log')\n",
    "plt.show()"
   ]
  },
  {
   "cell_type": "markdown",
   "id": "engaged-newman",
   "metadata": {},
   "source": [
    "### d"
   ]
  },
  {
   "cell_type": "code",
   "execution_count": 159,
   "id": "endangered-prevention",
   "metadata": {},
   "outputs": [
    {
     "data": {
      "image/png": "[encoded data removed]",
      "text/plain": [
       "<Figure size 432x288 with 1 Axes>"
      ]
     },
     "metadata": {
      "needs_background": "light"
     },
     "output_type": "display_data"
    }
   ],
   "source": [
    "plt.scatter(falc_data.height, falc_data.rho, s=2)\n",
    "plt.title('density with height')\n",
    "plt.xlabel('height [km]')\n",
    "plt.ylabel('density [g/cm^3]')\n",
    "plt.yscale('log')\n",
    "#plt.xscale('log')\n",
    "plt.show()"
   ]
  },
  {
   "cell_type": "code",
   "execution_count": 169,
   "id": "dedicated-group",
   "metadata": {},
   "outputs": [
    {
     "name": "stdout",
     "output_type": "stream",
     "text": [
      "2.771e-07\n"
     ]
    },
    {
     "data": {
      "image/png": "[encoded data removed]",
      "text/plain": [
       "<Figure size 432x288 with 1 Axes>"
      ]
     },
     "metadata": {
      "needs_background": "light"
     },
     "output_type": "display_data"
    },
    {
     "name": "stdout",
     "output_type": "stream",
     "text": [
      "solar radius in H_rhos:  4971.428571428572\n",
      "solar atmosphere in H_rhos:  16.558571428571426\n"
     ]
    }
   ],
   "source": [
    "rho0 = falc_data.loc[falc_data.height==0.0].rho[69]\n",
    "print(rho0)\n",
    "def rho(height, H_rho):\n",
    "    #print(height)\n",
    "    #print(rho0*np.exp(-height/H_rho))\n",
    "    return rho0*np.exp(-height/H_rho)\n",
    "\n",
    "plt.scatter(falc_data.height, falc_data.rho, s=2, label=r'model $\\rho$')\n",
    "plt.scatter(falc_data.height, rho(falc_data.height, 140), s=2, label=r'scale height $\\rho$') \n",
    "plt.title('density with height')\n",
    "plt.xlabel('height [km]')\n",
    "plt.ylabel('log density [g/cm^3]')\n",
    "plt.yscale('log')\n",
    "plt.xscale('log')\n",
    "plt.legend()\n",
    "plt.show()\n",
    "\n",
    "solar_radius = 696000 # km\n",
    "print(\"solar radius in H_rhos: \", solar_radius/140)\n",
    "print(\"solar atmosphere in H_rhos: \", (max(falc_data.height)-min(falc_data.height))/140)"
   ]
  },
  {
   "cell_type": "markdown",
   "id": "exceptional-coalition",
   "metadata": {},
   "source": [
    "After trying multiple scale height values, I settled on 140 km as the value that best fits (by eye) the density-height profile. This results in a scale height that's 1/5000th of the radius of the Sun, or 1/17th the Solar atmosphere.\n",
    "\n",
    "The scale height is small enough compared to the solar radius such that the plane parallel assumption is valid; that is, it is dwarfed by the overall curvature of the sphere of the Sun."
   ]
  },
  {
   "cell_type": "markdown",
   "id": "retained-sewing",
   "metadata": {},
   "source": [
    "### e"
   ]
  },
  {
   "cell_type": "code",
   "execution_count": 161,
   "id": "helpful-blind",
   "metadata": {},
   "outputs": [
    {
     "name": "stdout",
     "output_type": "stream",
     "text": [
      "0          0.076974\n",
      "1          0.077059\n",
      "2          0.077127\n",
      "3          0.077234\n",
      "4          0.077384\n",
      "          ...      \n",
      "75    148336.056780\n",
      "76    155289.814260\n",
      "77    162087.276500\n",
      "78    168724.025260\n",
      "79    175340.615800\n",
      "Length: 80, dtype: float64\n"
     ]
    },
    {
     "data": {
      "image/png": "[encoded data removed]",
      "text/plain": [
       "<Figure size 432x288 with 1 Axes>"
      ]
     },
     "metadata": {
      "needs_background": "light"
     },
     "output_type": "display_data"
    }
   ],
   "source": [
    "def ideal_gas_pressure(n, T): # pressure = n*k*T\n",
    "    kB = 1.3807e-16 # cm^2 g s^-2 K^-1\n",
    "    return n*kB*T\n",
    "\n",
    "print(ideal_gas_pressure(falc_data.n_H, falc_data.temp))\n",
    "plt.scatter(falc_data.height, falc_data.ptot, s=2, label='$P_{tot}$')\n",
    "#plt.scatter(falc_data.height, ideal_gas_pressure(falc_data.n_H, falc_data.temp), s=2, label='$P_{gas, H-only}$') \n",
    "plt.scatter(falc_data.height, ideal_gas_pressure(falc_data.n_H+falc_data.n_e, # since H includes free protons\n",
    "                                                 falc_data.temp), s=2, label='$P_{gas, all}$') \n",
    "\n",
    "plt.title('pressure with height')\n",
    "plt.xlabel('height [km]')\n",
    "plt.ylabel('log pressure [dyne/cm^2]')\n",
    "plt.yscale('log')\n",
    "#plt.xscale('log')\n",
    "plt.legend()\n",
    "plt.show()"
   ]
  },
  {
   "cell_type": "markdown",
   "id": "helpful-phone",
   "metadata": {},
   "source": [
    "Using the number density for HI only to calculate the ideal gas pressure results in underestimating the pressure at the surface of the atmosphere (compared to the model), which makes sense because I'm not counting the contribution to the pressure from the protons and electrons. Adding them in makes my ideal gas pressure profile match up to that of the model."
   ]
  },
  {
   "cell_type": "markdown",
   "id": "continent-spelling",
   "metadata": {},
   "source": [
    "### f"
   ]
  },
  {
   "cell_type": "code",
   "execution_count": 137,
   "id": "iraqi-genome",
   "metadata": {},
   "outputs": [
    {
     "data": {
      "image/png": "[encoded data removed]",
      "text/plain": [
       "<Figure size 432x288 with 1 Axes>"
      ]
     },
     "metadata": {
      "needs_background": "light"
     },
     "output_type": "display_data"
    }
   ],
   "source": [
    "plt.scatter(falc_data.height, falc_data.beta, s=2, label=r'$\\beta$')\n",
    "plt.scatter(falc_data.height, ideal_gas_pressure(falc_data.n_H+falc_data.n_e, \n",
    "                                                 falc_data.temp)/falc_data.ptot, s=2, label='ideal gas ratio') \n",
    "#plt.scatter(falc_data.height, ideal_gas_pressure(falc_data.n_H, \n",
    "#                                                 falc_data.temp)/falc_data.ptot, s=2, label='ideal gas ratio w/H') \n",
    "plt.title('β with height')\n",
    "plt.xlabel('height [km]')\n",
    "plt.ylabel('β')\n",
    "#plt.yscale('log')\n",
    "plt.legend()\n",
    "plt.show()"
   ]
  },
  {
   "cell_type": "markdown",
   "id": "devoted-premium",
   "metadata": {},
   "source": [
    "The $P_{gas}$ to $P_{tot}$ ratios follow the same profile, modulo some contribution, presumably from radiation. The ideal gas ratio may underpredict $P_{gas}$ closer to the surface because the ideal gas law assumes that the distance between particles is much larger than particle sizes, which is consistent with how the two ratios converge as the atmosphere density decreases with height."
   ]
  },
  {
   "cell_type": "markdown",
   "id": "changed-formation",
   "metadata": {},
   "source": [
    "### g"
   ]
  },
  {
   "cell_type": "code",
   "execution_count": 162,
   "id": "boring-basics",
   "metadata": {},
   "outputs": [
    {
     "data": {
      "image/png": "[encoded data removed]",
      "text/plain": [
       "<Figure size 432x288 with 1 Axes>"
      ]
     },
     "metadata": {
      "needs_background": "light"
     },
     "output_type": "display_data"
    },
    {
     "name": "stdout",
     "output_type": "stream",
     "text": [
      "model assumed surface gravity of:  27398.185100288993  or  4.4377217954103525\n"
     ]
    }
   ],
   "source": [
    "plt.scatter(falc_data.m, falc_data.ptot, s=2)\n",
    "plt.title('$P_{tot}$ with mass column density')\n",
    "plt.xlabel('mass column density [g/cm^2]')\n",
    "plt.ylabel('$P_{tot}$ [dyne/cm^2]')\n",
    "#plt.yscale('log')\n",
    "plt.show()\n",
    "\n",
    "print(\"model assumed surface gravity of: \", np.mean(falc_data.ptot/falc_data.m), \n",
    "      \" or \", np.log10(np.mean(falc_data.ptot/falc_data.m)))"
   ]
  },
  {
   "cell_type": "markdown",
   "id": "ceramic-dryer",
   "metadata": {},
   "source": [
    "### h"
   ]
  },
  {
   "cell_type": "code",
   "execution_count": 182,
   "id": "presidential-balance",
   "metadata": {},
   "outputs": [
    {
     "data": {
      "image/png": "[encoded data removed]",
      "text/plain": [
       "<Figure size 432x288 with 1 Axes>"
      ]
     },
     "metadata": {
      "needs_background": "light"
     },
     "output_type": "display_data"
    },
    {
     "name": "stdout",
     "output_type": "stream",
     "text": [
      "metal fraction:  0.0021781100497738626\n"
     ]
    }
   ],
   "source": [
    "m_H = 1.6736e-24 # grams\n",
    "he_h_abundance_ratio = 0.1\n",
    "he_h_mass_ratio = 3.97\n",
    "\n",
    "plt.scatter(falc_data.height, m_H*falc_data.n_H/falc_data.rho, s=2)\n",
    "plt.scatter(falc_data.height, he_h_abundance_ratio* he_h_mass_ratio * m_H * falc_data.n_H/falc_data.rho, s=2)\n",
    "plt.title('H vs He mass density ratios with height')\n",
    "plt.xlabel('height [km]')\n",
    "plt.ylabel('X-to-total mass density ratio')\n",
    "plt.ylim(0,1)\n",
    "plt.show()\n",
    "\n",
    "print(\"metal fraction: \", 1-np.mean(m_H*falc_data.n_H/falc_data.rho)-np.mean(he_h_abundance_ratio* he_h_mass_ratio * m_H * falc_data.n_H/falc_data.rho))\n",
    "\n"
   ]
  },
  {
   "cell_type": "markdown",
   "id": "nutritional-august",
   "metadata": {},
   "source": [
    "### i"
   ]
  },
  {
   "cell_type": "code",
   "execution_count": 145,
   "id": "proper-radio",
   "metadata": {},
   "outputs": [
    {
     "data": {
      "image/png": "[encoded data removed]",
      "text/plain": [
       "<Figure size 432x288 with 1 Axes>"
      ]
     },
     "metadata": {
      "needs_background": "light"
     },
     "output_type": "display_data"
    }
   ],
   "source": [
    "plt.scatter(falc_data.height, falc_data.turb_vel, s=2)\n",
    "plt.title('turbulent velocity with height')\n",
    "plt.xlabel('height [km]')\n",
    "plt.ylabel('$v_{turb}$ [km/s]')\n",
    "#plt.xscale('log')\n",
    "plt.show()"
   ]
  },
  {
   "cell_type": "markdown",
   "id": "favorite-decimal",
   "metadata": {},
   "source": [
    "The turbulent velocity profile follows the temperature profile, reflecting the stratification of the Solar atmosphere - as the gas heats up through the chromosphere and up into the corona, the particles of that gas move faster. "
   ]
  },
  {
   "cell_type": "code",
   "execution_count": 152,
   "id": "remarkable-disposition",
   "metadata": {},
   "outputs": [
    {
     "data": {
      "image/png": "[encoded data removed]",
      "text/plain": [
       "<Figure size 432x288 with 1 Axes>"
      ]
     },
     "metadata": {
      "needs_background": "light"
     },
     "output_type": "display_data"
    }
   ],
   "source": [
    "def pressure_turb(rho, v_turb):\n",
    "    return 0.5*rho*v_turb**2\n",
    "\n",
    "plt.scatter(falc_data.height, pressure_turb(falc_data.rho, falc_data.turb_vel), s=2, label='$P_{turb}$')\n",
    "plt.scatter(falc_data.height, ideal_gas_pressure(falc_data.n_H+falc_data.n_e, # since H includes free protons\n",
    "                                                 falc_data.temp), s=2, label='$P_{gas}$')\n",
    "plt.scatter(falc_data.height, falc_data.ptot, s=2, label='$P_{tot}$')\n",
    "plt.title('$P_{turb}$ vs $P_{gas}$ vs $P_{tot}$')\n",
    "plt.xlabel('height [km]')\n",
    "plt.ylabel('log pressure [dyne/cm^2]')\n",
    "plt.yscale('log')\n",
    "plt.legend()\n",
    "plt.show()"
   ]
  },
  {
   "cell_type": "markdown",
   "id": "tight-glass",
   "metadata": {},
   "source": [
    "The turbulent pressure is 12 orders of mangitude smaller than gas pressure. Its contribution to the total pressure is insignificant. "
   ]
  },
  {
   "cell_type": "markdown",
   "id": "chubby-feelings",
   "metadata": {},
   "source": [
    "### Part II"
   ]
  },
  {
   "cell_type": "markdown",
   "id": "velvet-jonathan",
   "metadata": {},
   "source": [
    "### k"
   ]
  },
  {
   "cell_type": "code",
   "execution_count": 171,
   "id": "promising-portland",
   "metadata": {},
   "outputs": [
    {
     "data": {
      "text/html": [
       "<div>\n",
       "<style scoped>\n",
       "    .dataframe tbody tr th:only-of-type {\n",
       "        vertical-align: middle;\n",
       "    }\n",
       "\n",
       "    .dataframe tbody tr th {\n",
       "        vertical-align: top;\n",
       "    }\n",
       "\n",
       "    .dataframe thead th {\n",
       "        text-align: right;\n",
       "    }\n",
       "</style>\n",
       "<table border=\"1\" class=\"dataframe\">\n",
       "  <thead>\n",
       "    <tr style=\"text-align: right;\">\n",
       "      <th></th>\n",
       "      <th>wave</th>\n",
       "      <th>smoothed_flux</th>\n",
       "      <th>continuum_flux</th>\n",
       "      <th>smoothed_intensity</th>\n",
       "      <th>continuum_intensity</th>\n",
       "    </tr>\n",
       "  </thead>\n",
       "  <tbody>\n",
       "    <tr>\n",
       "      <th>0</th>\n",
       "      <td>0.20</td>\n",
       "      <td>0.02</td>\n",
       "      <td>0.04</td>\n",
       "      <td>0.03</td>\n",
       "      <td>0.04</td>\n",
       "    </tr>\n",
       "    <tr>\n",
       "      <th>1</th>\n",
       "      <td>0.22</td>\n",
       "      <td>0.07</td>\n",
       "      <td>0.11</td>\n",
       "      <td>0.14</td>\n",
       "      <td>0.20</td>\n",
       "    </tr>\n",
       "    <tr>\n",
       "      <th>2</th>\n",
       "      <td>0.24</td>\n",
       "      <td>0.09</td>\n",
       "      <td>0.20</td>\n",
       "      <td>0.18</td>\n",
       "      <td>0.30</td>\n",
       "    </tr>\n",
       "    <tr>\n",
       "      <th>3</th>\n",
       "      <td>0.26</td>\n",
       "      <td>0.19</td>\n",
       "      <td>0.40</td>\n",
       "      <td>0.37</td>\n",
       "      <td>0.50</td>\n",
       "    </tr>\n",
       "    <tr>\n",
       "      <th>4</th>\n",
       "      <td>0.28</td>\n",
       "      <td>0.35</td>\n",
       "      <td>0.70</td>\n",
       "      <td>0.59</td>\n",
       "      <td>1.19</td>\n",
       "    </tr>\n",
       "  </tbody>\n",
       "</table>\n",
       "</div>"
      ],
      "text/plain": [
       "   wave  smoothed_flux  continuum_flux  smoothed_intensity  \\\n",
       "0  0.20           0.02            0.04                0.03   \n",
       "1  0.22           0.07            0.11                0.14   \n",
       "2  0.24           0.09            0.20                0.18   \n",
       "3  0.26           0.19            0.40                0.37   \n",
       "4  0.28           0.35            0.70                0.59   \n",
       "\n",
       "   continuum_intensity  \n",
       "0                 0.04  \n",
       "1                 0.20  \n",
       "2                 0.30  \n",
       "3                 0.50  \n",
       "4                 1.19  "
      ]
     },
     "execution_count": 171,
     "metadata": {},
     "output_type": "execute_result"
    }
   ],
   "source": [
    "solspect_data.head()"
   ]
  },
  {
   "cell_type": "code",
   "execution_count": 181,
   "id": "marked-newsletter",
   "metadata": {},
   "outputs": [
    {
     "data": {
      "image/png": "[encoded data removed]",
      "text/plain": [
       "<Figure size 432x288 with 1 Axes>"
      ]
     },
     "metadata": {
      "needs_background": "light"
     },
     "output_type": "display_data"
    },
    {
     "name": "stdout",
     "output_type": "stream",
     "text": [
      "continuum intensity peak at:  0.41\n"
     ]
    }
   ],
   "source": [
    "plt.plot(solspect_data.wave, solspect_data.smoothed_flux, label='smoothed flux')\n",
    "plt.plot(solspect_data.wave, solspect_data.continuum_flux, label='continuum flux')\n",
    "plt.plot(solspect_data.wave, solspect_data.smoothed_intensity, label='smoothed intensity')\n",
    "plt.plot(solspect_data.wave, solspect_data.continuum_intensity, label='continuum intensity')\n",
    "#plt.title('$P_{turb}$ vs $P_{gas}$ vs $P_{tot}$')\n",
    "plt.xlabel(r'$\\lambda$ [$\\mu$m]')\n",
    "plt.ylabel('intensity and/or flux')\n",
    "#plt.ylabel('log pressure [dyne/cm^2]')\n",
    "#plt.yscale('log')\n",
    "plt.legend()\n",
    "plt.show()\n",
    "\n",
    "continuum_intensity_peaks_at = np.argmax(solspect_data.continuum_intensity)\n",
    "print(\"continuum intensity peak at: \", solspect_data.wave[continuum_intensity_peaks_at])"
   ]
  },
  {
   "cell_type": "markdown",
   "id": "indian-stand",
   "metadata": {},
   "source": [
    "### l"
   ]
  },
  {
   "cell_type": "markdown",
   "id": "double-multimedia",
   "metadata": {},
   "source": [
    "See writeup for the requested analytical solution."
   ]
  },
  {
   "cell_type": "markdown",
   "id": "freelance-birthday",
   "metadata": {},
   "source": [
    "### m"
   ]
  },
  {
   "cell_type": "code",
   "execution_count": 202,
   "id": "russian-desktop",
   "metadata": {},
   "outputs": [
    {
     "data": {
      "text/html": [
       "<div>\n",
       "<style scoped>\n",
       "    .dataframe tbody tr th:only-of-type {\n",
       "        vertical-align: middle;\n",
       "    }\n",
       "\n",
       "    .dataframe tbody tr th {\n",
       "        vertical-align: top;\n",
       "    }\n",
       "\n",
       "    .dataframe thead th {\n",
       "        text-align: right;\n",
       "    }\n",
       "</style>\n",
       "<table border=\"1\" class=\"dataframe\">\n",
       "  <thead>\n",
       "    <tr style=\"text-align: right;\">\n",
       "      <th></th>\n",
       "      <th>height</th>\n",
       "      <th>tau</th>\n",
       "      <th>m</th>\n",
       "      <th>temp</th>\n",
       "      <th>turb_vel</th>\n",
       "      <th>n_H</th>\n",
       "      <th>n_p</th>\n",
       "      <th>n_e</th>\n",
       "      <th>ptot</th>\n",
       "      <th>beta</th>\n",
       "      <th>rho</th>\n",
       "    </tr>\n",
       "  </thead>\n",
       "  <tbody>\n",
       "    <tr>\n",
       "      <th>22</th>\n",
       "      <td>2199.0</td>\n",
       "      <td>1.901000e-08</td>\n",
       "      <td>0.000007</td>\n",
       "      <td>13000</td>\n",
       "      <td>8.66</td>\n",
       "      <td>4.244000e+10</td>\n",
       "      <td>3.456000e+10</td>\n",
       "      <td>3.695000e+10</td>\n",
       "      <td>0.1874</td>\n",
       "      <td>0.801</td>\n",
       "      <td>9.944000e-14</td>\n",
       "    </tr>\n",
       "    <tr>\n",
       "      <th>23</th>\n",
       "      <td>2190.0</td>\n",
       "      <td>4.150000e-08</td>\n",
       "      <td>0.000007</td>\n",
       "      <td>12000</td>\n",
       "      <td>8.48</td>\n",
       "      <td>4.854000e+10</td>\n",
       "      <td>3.411000e+10</td>\n",
       "      <td>3.663000e+10</td>\n",
       "      <td>0.1900</td>\n",
       "      <td>0.785</td>\n",
       "      <td>1.137000e-13</td>\n",
       "    </tr>\n",
       "    <tr>\n",
       "      <th>24</th>\n",
       "      <td>2168.0</td>\n",
       "      <td>9.845000e-08</td>\n",
       "      <td>0.000007</td>\n",
       "      <td>11150</td>\n",
       "      <td>8.30</td>\n",
       "      <td>5.500000e+10</td>\n",
       "      <td>3.619000e+10</td>\n",
       "      <td>3.889000e+10</td>\n",
       "      <td>0.1974</td>\n",
       "      <td>0.775</td>\n",
       "      <td>1.289000e-13</td>\n",
       "    </tr>\n",
       "    <tr>\n",
       "      <th>25</th>\n",
       "      <td>2140.0</td>\n",
       "      <td>1.755000e-07</td>\n",
       "      <td>0.000008</td>\n",
       "      <td>10550</td>\n",
       "      <td>8.10</td>\n",
       "      <td>6.252000e+10</td>\n",
       "      <td>3.806000e+10</td>\n",
       "      <td>4.095000e+10</td>\n",
       "      <td>0.2079</td>\n",
       "      <td>0.769</td>\n",
       "      <td>1.465000e-13</td>\n",
       "    </tr>\n",
       "    <tr>\n",
       "      <th>26</th>\n",
       "      <td>2110.0</td>\n",
       "      <td>2.620000e-07</td>\n",
       "      <td>0.000008</td>\n",
       "      <td>9900</td>\n",
       "      <td>7.87</td>\n",
       "      <td>7.314000e+10</td>\n",
       "      <td>3.923000e+10</td>\n",
       "      <td>4.238000e+10</td>\n",
       "      <td>0.2209</td>\n",
       "      <td>0.760</td>\n",
       "      <td>1.714000e-13</td>\n",
       "    </tr>\n",
       "    <tr>\n",
       "      <th>27</th>\n",
       "      <td>2087.0</td>\n",
       "      <td>3.300000e-07</td>\n",
       "      <td>0.000008</td>\n",
       "      <td>9450</td>\n",
       "      <td>7.70</td>\n",
       "      <td>8.287000e+10</td>\n",
       "      <td>3.954000e+10</td>\n",
       "      <td>4.291000e+10</td>\n",
       "      <td>0.2324</td>\n",
       "      <td>0.753</td>\n",
       "      <td>1.942000e-13</td>\n",
       "    </tr>\n",
       "    <tr>\n",
       "      <th>28</th>\n",
       "      <td>2075.0</td>\n",
       "      <td>3.659000e-07</td>\n",
       "      <td>0.000009</td>\n",
       "      <td>9200</td>\n",
       "      <td>7.61</td>\n",
       "      <td>8.882000e+10</td>\n",
       "      <td>3.956000e+10</td>\n",
       "      <td>4.305000e+10</td>\n",
       "      <td>0.2390</td>\n",
       "      <td>0.748</td>\n",
       "      <td>2.081000e-13</td>\n",
       "    </tr>\n",
       "    <tr>\n",
       "      <th>29</th>\n",
       "      <td>2062.0</td>\n",
       "      <td>4.049000e-07</td>\n",
       "      <td>0.000009</td>\n",
       "      <td>8950</td>\n",
       "      <td>7.52</td>\n",
       "      <td>9.569000e+10</td>\n",
       "      <td>3.952000e+10</td>\n",
       "      <td>4.314000e+10</td>\n",
       "      <td>0.2467</td>\n",
       "      <td>0.743</td>\n",
       "      <td>2.242000e-13</td>\n",
       "    </tr>\n",
       "    <tr>\n",
       "      <th>30</th>\n",
       "      <td>2043.0</td>\n",
       "      <td>4.620000e-07</td>\n",
       "      <td>0.000009</td>\n",
       "      <td>8700</td>\n",
       "      <td>7.41</td>\n",
       "      <td>1.055000e+11</td>\n",
       "      <td>3.937000e+10</td>\n",
       "      <td>4.314000e+10</td>\n",
       "      <td>0.2590</td>\n",
       "      <td>0.738</td>\n",
       "      <td>2.471000e-13</td>\n",
       "    </tr>\n",
       "    <tr>\n",
       "      <th>31</th>\n",
       "      <td>2017.0</td>\n",
       "      <td>5.405000e-07</td>\n",
       "      <td>0.000010</td>\n",
       "      <td>8400</td>\n",
       "      <td>7.26</td>\n",
       "      <td>1.203000e+11</td>\n",
       "      <td>3.921000e+10</td>\n",
       "      <td>4.313000e+10</td>\n",
       "      <td>0.2778</td>\n",
       "      <td>0.732</td>\n",
       "      <td>2.818000e-13</td>\n",
       "    </tr>\n",
       "  </tbody>\n",
       "</table>\n",
       "</div>"
      ],
      "text/plain": [
       "    height           tau         m   temp  turb_vel           n_H  \\\n",
       "22  2199.0  1.901000e-08  0.000007  13000      8.66  4.244000e+10   \n",
       "23  2190.0  4.150000e-08  0.000007  12000      8.48  4.854000e+10   \n",
       "24  2168.0  9.845000e-08  0.000007  11150      8.30  5.500000e+10   \n",
       "25  2140.0  1.755000e-07  0.000008  10550      8.10  6.252000e+10   \n",
       "26  2110.0  2.620000e-07  0.000008   9900      7.87  7.314000e+10   \n",
       "27  2087.0  3.300000e-07  0.000008   9450      7.70  8.287000e+10   \n",
       "28  2075.0  3.659000e-07  0.000009   9200      7.61  8.882000e+10   \n",
       "29  2062.0  4.049000e-07  0.000009   8950      7.52  9.569000e+10   \n",
       "30  2043.0  4.620000e-07  0.000009   8700      7.41  1.055000e+11   \n",
       "31  2017.0  5.405000e-07  0.000010   8400      7.26  1.203000e+11   \n",
       "\n",
       "             n_p           n_e    ptot   beta           rho  \n",
       "22  3.456000e+10  3.695000e+10  0.1874  0.801  9.944000e-14  \n",
       "23  3.411000e+10  3.663000e+10  0.1900  0.785  1.137000e-13  \n",
       "24  3.619000e+10  3.889000e+10  0.1974  0.775  1.289000e-13  \n",
       "25  3.806000e+10  4.095000e+10  0.2079  0.769  1.465000e-13  \n",
       "26  3.923000e+10  4.238000e+10  0.2209  0.760  1.714000e-13  \n",
       "27  3.954000e+10  4.291000e+10  0.2324  0.753  1.942000e-13  \n",
       "28  3.956000e+10  4.305000e+10  0.2390  0.748  2.081000e-13  \n",
       "29  3.952000e+10  4.314000e+10  0.2467  0.743  2.242000e-13  \n",
       "30  3.937000e+10  4.314000e+10  0.2590  0.738  2.471000e-13  \n",
       "31  3.921000e+10  4.313000e+10  0.2778  0.732  2.818000e-13  "
      ]
     },
     "execution_count": 202,
     "metadata": {},
     "output_type": "execute_result"
    }
   ],
   "source": [
    "falc_data.loc[(falc_data.height<2200.)&(falc_data.height>2000.)]"
   ]
  },
  {
   "cell_type": "code",
   "execution_count": 215,
   "id": "undefined-barrier",
   "metadata": {},
   "outputs": [
    {
     "name": "stdout",
     "output_type": "stream",
     "text": [
      "temp at surface:  4400\n",
      "temp at upper photosphere:  4560\n",
      "temp at upper chromosphere:  11150\n",
      "temp in corona:  100000\n",
      "teff:  5770\n"
     ]
    },
    {
     "data": {
      "image/png": "[encoded data removed]",
      "text/plain": [
       "<Figure size 432x288 with 1 Axes>"
      ]
     },
     "metadata": {
      "needs_background": "light"
     },
     "output_type": "display_data"
    }
   ],
   "source": [
    "def planck(lam, T):\n",
    "    lam = lam*1e-4\n",
    "    h = 6.6261e-27 # cm^2 g s^-1\n",
    "    kB = 1.3807e-16 # cm^2 g s^-2 K^-1\n",
    "    c = 3e10 # cm s^-2\n",
    "    factor1 = (2*h*c**2)/(lam**5)\n",
    "    exp_arg = h*c/(lam*kB*T)\n",
    "    factor2 = 1/(np.exp(exp_arg) - 1)\n",
    "\n",
    "    return factor1*factor2\n",
    "\n",
    "def planck_si(lam, T):\n",
    "    lam = lam*1e-6\n",
    "    h = 6.6261e-34 \n",
    "    kB = 1.3807e-23 \n",
    "    c = 3e8\n",
    "    factor1 = (2*h*c**2)/(lam**5)\n",
    "    exp_arg = h*c/(lam*kB*T)\n",
    "    factor2 = 1/(np.exp(exp_arg) - 1)\n",
    "\n",
    "    return factor1*factor2\n",
    "\n",
    "temp1 = min(falc_data.temp)\n",
    "temp2 = falc_data.loc[falc_data.height==400.].temp[55]\n",
    "temp3 = falc_data.loc[falc_data.height==2168.0].temp[24]\n",
    "temp4 = max(falc_data.temp)\n",
    "temp5 = 5770\n",
    "print(\"temp at surface: \", temp1)\n",
    "print(\"temp at upper photosphere: \", temp2)\n",
    "print(\"temp at upper chromosphere: \", temp3)\n",
    "print(\"temp in corona: \", temp4)\n",
    "print(\"teff: \", temp5)\n",
    "plt.plot(solspect_data.wave, planck(solspect_data.wave, temp1), label='T @ surface')\n",
    "plt.plot(solspect_data.wave, planck(solspect_data.wave, temp2), label='T @ upper photosphere')\n",
    "#plt.plot(solspect_data.wave, planck(solspect_data.wave, temp3), label='T @ upper chromosphere')\n",
    "#plt.plot(solspect_data.wave, planck(solspect_data.wave, temp4), label='T in corona')\n",
    "plt.plot(solspect_data.wave, planck(solspect_data.wave, temp5), label=r'$T_{eff}$')\n",
    "\n",
    "plt.xlabel(r'$\\lambda$ [$\\mu$m]')\n",
    "plt.ylabel('radiance [erg s^-1 cm^-2 str^-1 Hz^-1]')\n",
    "plt.title('Planck at benchmark temperatures')\n",
    "#plt.yscale('log')\n",
    "plt.legend()\n",
    "plt.show()"
   ]
  },
  {
   "cell_type": "markdown",
   "id": "finished-alexandria",
   "metadata": {},
   "source": [
    "### n"
   ]
  },
  {
   "cell_type": "code",
   "execution_count": null,
   "id": "amended-independence",
   "metadata": {},
   "outputs": [],
   "source": []
  }
 ],
 "metadata": {
  "kernelspec": {
   "display_name": "Python 3 (ipykernel)",
   "language": "python",
   "name": "python3"
  },
  "language_info": {
   "codemirror_mode": {
    "name": "ipython",
    "version": 3
   },
   "file_extension": ".py",
   "mimetype": "text/x-python",
   "name": "python",
   "nbconvert_exporter": "python",
   "pygments_lexer": "ipython3",
   "version": "3.7.9"
  }
 },
 "nbformat": 4,
 "nbformat_minor": 5
}
