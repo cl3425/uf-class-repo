{
 "cells": [
  {
   "cell_type": "code",
   "execution_count": 2,
   "id": "accessory-vinyl",
   "metadata": {},
   "outputs": [],
   "source": [
    "import numpy as np\n",
    "import math\n",
    "import matplotlib.pyplot as plt\n",
    "%matplotlib inline"
   ]
  },
  {
   "cell_type": "markdown",
   "id": "expressed-defeat",
   "metadata": {},
   "source": [
    "## 1b"
   ]
  },
  {
   "cell_type": "code",
   "execution_count": 7,
   "id": "lightweight-preliminary",
   "metadata": {},
   "outputs": [
    {
     "data": {
      "image/png": "[encoded data removed]",
      "text/plain": [
       "<Figure size 432x288 with 1 Axes>"
      ]
     },
     "metadata": {
      "needs_background": "light"
     },
     "output_type": "display_data"
    }
   ],
   "source": [
    "# see 1b written HW for simplification for calculate_I_I0()\n",
    "def calculate_I_I0(k_rho_s):\n",
    "    return 10 - 9*np.exp(k_rho_s) # leaving off negative sign in front of k_rho_s bc plotting as function of -k_rho_s\n",
    "\n",
    "def calculate_I_I0_new(k_rho_s):\n",
    "    return np.exp(k_rho_s) + 10*(1-np.exp(k_rho_s))\n",
    "\n",
    "k_rho_ss = -np.linspace(0, 100, 10000)\n",
    "plt.plot(k_rho_ss, calculate_I_I0(k_rho_ss))\n",
    "plt.ylabel('I/I0')\n",
    "plt.xlabel('-kappa * rho * s')\n",
    "plt.show()"
   ]
  },
  {
   "cell_type": "code",
   "execution_count": 56,
   "id": "deadly-significance",
   "metadata": {},
   "outputs": [
    {
     "data": {
      "text/plain": [
       "array([ 1.        ,  1.08956041,  1.17822959, ...,  9.99999999,\n",
       "        9.99999999, 10.        ])"
      ]
     },
     "execution_count": 56,
     "metadata": {},
     "output_type": "execute_result"
    }
   ],
   "source": [
    "calculate_I_I0_old(k_rho_ss)[:2132] # 2132nd element is where we first reach 10"
   ]
  },
  {
   "cell_type": "code",
   "execution_count": 62,
   "id": "informed-lesbian",
   "metadata": {},
   "outputs": [
    {
     "name": "stdout",
     "output_type": "stream",
     "text": [
      "21.32\n",
      "449.86410000000006\n"
     ]
    }
   ],
   "source": [
    "# so divide by 100 to get actual value of k*rho*s\n",
    "print(2132/100)\n",
    "# square it, per written work, to get number of mean free paths until I_nu --> S_nu\n",
    "print((2121/100)**2)"
   ]
  },
  {
   "cell_type": "code",
   "execution_count": null,
   "id": "expensive-organizer",
   "metadata": {},
   "outputs": [],
   "source": []
  }
 ],
 "metadata": {
  "kernelspec": {
   "display_name": "Python 3 (ipykernel)",
   "language": "python",
   "name": "python3"
  },
  "language_info": {
   "codemirror_mode": {
    "name": "ipython",
    "version": 3
   },
   "file_extension": ".py",
   "mimetype": "text/x-python",
   "name": "python",
   "nbconvert_exporter": "python",
   "pygments_lexer": "ipython3",
   "version": "3.7.9"
  }
 },
 "nbformat": 4,
 "nbformat_minor": 5
}
