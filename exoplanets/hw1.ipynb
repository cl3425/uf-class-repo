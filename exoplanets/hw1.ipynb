{
 "cells": [
  {
   "cell_type": "markdown",
   "id": "loose-sleep",
   "metadata": {},
   "source": [
    "### 1d"
   ]
  },
  {
   "cell_type": "code",
   "execution_count": 22,
   "id": "together-replacement",
   "metadata": {},
   "outputs": [],
   "source": [
    "import numpy as np\n",
    "import pandas as pd\n",
    "import matplotlib.pyplot as plt\n",
    "%matplotlib inline"
   ]
  },
  {
   "cell_type": "code",
   "execution_count": 23,
   "id": "controversial-headquarters",
   "metadata": {},
   "outputs": [
    {
     "name": "stdout",
     "output_type": "stream",
     "text": [
      "4.455198800502622e+19\n"
     ]
    }
   ],
   "source": [
    "year_to_seconds = 365.*24*3600\n",
    "t0 = 0\n",
    "tf = 1*year_to_seconds\n",
    "period = 1*year_to_seconds # Earth year in seconds\n",
    "theta0 = 0\n",
    "a = 1*1.496e13 # 1 AU in cm\n",
    "e = 0 # circle\n",
    "m_star = 1*1.988e33 # 1 solar mass in grams \n",
    "r0 = a*(1-e) # periastron, aka initial/seeding distance\n",
    "G = 6.674e-8 # in cgs (previously 1 in solar mass/AU/year units)\n",
    "\n",
    "def update_theta(specific_L, r, delta_t):\n",
    "    delta_theta = (specific_L/(r**2)) * delta_t\n",
    "    return delta_theta\n",
    "\n",
    "def calc_specific_L(a, e, m_star):\n",
    "    return np.sqrt(G * m_star * a * (1-e**2))\n",
    "\n",
    "def calc_r(a, e, theta):\n",
    "    numerator = a*(1-e**2)\n",
    "    denominator = 1 + e*np.cos(theta)\n",
    "    return numerator/denominator\n",
    "\n",
    "specific_L = calc_specific_L(a, e, m_star)\n",
    "print(specific_L)"
   ]
  },
  {
   "cell_type": "code",
   "execution_count": 24,
   "id": "angry-coaching",
   "metadata": {},
   "outputs": [
    {
     "data": {
      "image/png": "[encoded data removed]",
      "text/plain": [
       "<Figure size 432x288 with 1 Axes>"
      ]
     },
     "metadata": {
      "needs_background": "light"
     },
     "output_type": "display_data"
    },
    {
     "name": "stdout",
     "output_type": "stream",
     "text": [
      "       time             r     theta\n",
      "0       0.0  1.496000e+13  0.000000\n",
      "1   86400.0  1.496000e+13  0.017200\n",
      "2  172800.0  1.496000e+13  0.034399\n",
      "3  259200.0  1.496000e+13  0.051599\n",
      "4  345600.0  1.496000e+13  0.068798\n"
     ]
    }
   ],
   "source": [
    "rs = []\n",
    "thetas = []\n",
    "times = np.linspace(t0, tf, 366) # one iteration per day\n",
    "delta_t = 1.*year_to_seconds/365\n",
    "theta = theta0 # initialize theta at theta0\n",
    "r = r0 # initialize r at r0\n",
    "fig = plt.figure()\n",
    "ax = fig.add_subplot(111,aspect='equal') # force 1 to 1 aspect ratio to confirm that it's a circle\n",
    "for times_elt in times:\n",
    "    rs.append(r)\n",
    "    thetas.append(theta)\n",
    "    delta_theta = update_theta(specific_L, r, delta_t)\n",
    "    theta = theta + delta_theta\n",
    "    r = calc_r(a, e, theta)\n",
    "    x = r*np.cos(theta)\n",
    "    y = r*np.sin(theta)\n",
    "    #print(theta, x, y)\n",
    "    plt.scatter(x, y, color='purple', s=2)\n",
    "    \n",
    "plt.scatter(0, 0, color='red')\n",
    "plt.show()\n",
    "\n",
    "df = pd.DataFrame()\n",
    "df['time'] = times\n",
    "df['r'] = rs\n",
    "df['theta'] = thetas\n",
    "print(df.head())"
   ]
  },
  {
   "cell_type": "markdown",
   "id": "curious-nelson",
   "metadata": {},
   "source": [
    "### 2d"
   ]
  },
  {
   "cell_type": "code",
   "execution_count": 242,
   "id": "satisfactory-missile",
   "metadata": {},
   "outputs": [
    {
     "data": {
      "image/png": "[encoded data removed]",
      "text/plain": [
       "<Figure size 432x288 with 1 Axes>"
      ]
     },
     "metadata": {
      "needs_background": "light"
     },
     "output_type": "display_data"
    }
   ],
   "source": [
    "# first just visualizing what my birthday planet looks like \n",
    "def calc_period(a, m_star):\n",
    "    tf = ((4*np.pi**2*a**3)/(G*(m_star)))**0.5 # take m_p as zero, since m_p << m_star\n",
    "    return tf\n",
    "\n",
    "rs = []\n",
    "thetas = []\n",
    "a = 0.7*1.496e13\n",
    "e = 363./365 # from my bday\n",
    "# old bday was so close to the end of the calendar that it needed a super low delta_t to make delta_thetas reasonable\n",
    "# but we're not asked for this in 2d, so gonna return to e = 363/365 for the temperature part after this\n",
    "e = 333./365 \n",
    "\n",
    "specific_L = calc_specific_L(a, e, m_star) # recalculate specific L using new a and e\n",
    "theta = theta0 # initialize theta at theta0\n",
    "r0 = a*(1-e) # recalculate new initial distance\n",
    "r = r0 # and initialize r\n",
    "tf = calc_period(a, m_star) # recalculate tf\n",
    "times = np.linspace(t0, tf, 1000) \n",
    "delta_t = times[1]-times[0]\n",
    "\n",
    "#fig = plt.figure()\n",
    "#ax = fig.add_subplot(111,aspect='equal') # force 1 to 1 aspect ratio to confirm that it's a circle\n",
    "for times_elt in times:\n",
    "    rs.append(r)\n",
    "    thetas.append(theta)\n",
    "    delta_theta = update_theta(specific_L, r, delta_t)\n",
    "    theta = theta + delta_theta\n",
    "    r = calc_r(a, e, theta)\n",
    "    x = r*np.cos(theta)\n",
    "    y = r*np.sin(theta)\n",
    "    #print(theta, x, y)\n",
    "    plt.scatter(x, y, color='purple', s=2)\n",
    "plt.scatter(0, 0, color='red')\n",
    "\n",
    "plt.show()\n",
    "\n",
    "#df = pd.DataFrame()\n",
    "#df['time'] = times\n",
    "#df['r'] = rs\n",
    "#df['theta'] = thetas\n",
    "#print(df.head())"
   ]
  },
  {
   "cell_type": "code",
   "execution_count": 40,
   "id": "super-imaging",
   "metadata": {},
   "outputs": [],
   "source": [
    "#print(delta_t)\n",
    "#print(np.linspace(t0, tf, 10000)[1], np.linspace(t0, tf, 10000)[0])\n",
    "#print(np.linspace(t0, tf, 1000)[1], np.linspace(t0, tf, 1000)[0])\n",
    "#print(np.linspace(t0, tf, 100)[1], np.linspace(t0, tf, 100)[0])"
   ]
  },
  {
   "cell_type": "markdown",
   "id": "neutral-saudi",
   "metadata": {},
   "source": [
    "#### Instantaneous temperature"
   ]
  },
  {
   "cell_type": "code",
   "execution_count": 251,
   "id": "closed-saying",
   "metadata": {},
   "outputs": [
    {
     "data": {
      "image/png": "[encoded data removed]",
      "text/plain": [
       "<Figure size 432x288 with 1 Axes>"
      ]
     },
     "metadata": {
      "needs_background": "light"
     },
     "output_type": "display_data"
    },
    {
     "data": {
      "image/png": "[encoded data removed]",
      "text/plain": [
       "<Figure size 432x288 with 1 Axes>"
      ]
     },
     "metadata": {
      "needs_background": "light"
     },
     "output_type": "display_data"
    }
   ],
   "source": [
    "stefan_boltzmann = 5.67e-5 # g s^-3 K^-4\n",
    "L_star = 3.839e33 # erg/s\n",
    "a = 0.7*1.496e13\n",
    "e = 363./365 # from my bday\n",
    "e = 333./365 # less pathological e\n",
    "#e = 0.4\n",
    "A = 0.3\n",
    "specific_L = calc_specific_L(a, e, m_star) # recalculate specific L using new a and e\n",
    "\n",
    "def teff(L_star, d, A): # where d is distance from star, ie. r\n",
    "    return (L_star*(1-A)/(4*np.pi*stefan_boltzmann*d**2))**0.25\n",
    "\n",
    "# calculate instantaneous Teff at every timestep\n",
    "temps = []\n",
    "rs = []\n",
    "theta = theta0 # initialize theta at theta0\n",
    "r0 = a*(1-e) # recalculate new initial distance\n",
    "r = r0 # and initialize r\n",
    "tf = calc_period(a, m_star) # recalculate tf\n",
    "#print(\"period: \", tf)\n",
    "times = np.linspace(t0, tf, 1000000) \n",
    "delta_t = times[1]-times[0]\n",
    "#print(\"delta t: \", delta_t)\n",
    "for times_elt in times:\n",
    "    delta_theta = update_theta(specific_L, r, delta_t)\n",
    "    #print(r/1.496e13, delta_theta)\n",
    "    theta = theta + delta_theta\n",
    "    r = calc_r(a, e, theta)\n",
    "    rs.append(r)\n",
    "    temp = teff(L_star, r, A)\n",
    "    temps.append(temp)\n",
    "    \n",
    "plt.scatter(times, temps, s=2, label=\"Teff\")\n",
    "plt.plot(times, np.ones(len(times))*373, label=\"boiling pt\")\n",
    "plt.plot(times, np.ones(len(times))*273, label=\"freezing pt\")\n",
    "plt.axhspan(273, 373, facecolor='g', alpha=0.5)\n",
    "plt.show()\n",
    "\n",
    "plt.scatter(times, temps, s=2, label=\"Teff\")\n",
    "plt.plot(times, np.ones(len(times))*373, label=\"boiling pt\")\n",
    "plt.plot(times, np.ones(len(times))*273, label=\"freezing pt\")\n",
    "plt.axhspan(273, 373, facecolor='g', alpha=0.5)\n",
    "plt.ylim(200, 500)\n",
    "plt.show()"
   ]
  },
  {
   "cell_type": "code",
   "execution_count": 252,
   "id": "special-metabolism",
   "metadata": {},
   "outputs": [
    {
     "data": {
      "text/plain": [
       "6.28352004942388"
      ]
     },
     "execution_count": 252,
     "metadata": {},
     "output_type": "execute_result"
    }
   ],
   "source": [
    "theta "
   ]
  },
  {
   "cell_type": "code",
   "execution_count": 253,
   "id": "attempted-allowance",
   "metadata": {},
   "outputs": [
    {
     "name": "stdout",
     "output_type": "stream",
     "text": [
      "1.3386301369857012\n",
      "0.061369863013698615\n",
      "1454.4119479251112 311.4115466235394\n"
     ]
    }
   ],
   "source": [
    "print(max(rs)/1.496e13)\n",
    "print(min(rs)/1.496e13)\n",
    "print(max(temps), min(temps))"
   ]
  },
  {
   "cell_type": "markdown",
   "id": "undefined-arrangement",
   "metadata": {},
   "source": [
    "This is quite different from my analytic answers for Temp(min(r)) and Temp(max(r)) in 2c because I'm using non-birthday eccentricity (it does track with analytic answer when I do use the proper eccentricity, though). Even at this more modest eccentricity, the planet dips into the habitable zone near and at apoastron, but very rapidly heats up as it approaches periastron, due to its high-eccentricity orbit. "
   ]
  },
  {
   "cell_type": "markdown",
   "id": "painted-emerald",
   "metadata": {},
   "source": [
    "### Ignore: this is for sanity checking subsequent plots with better-behaved eccentricities"
   ]
  },
  {
   "cell_type": "markdown",
   "id": "aging-nickel",
   "metadata": {},
   "source": [
    "Previously I needed ~1e6 points to not have pathologically high delta_thetas for old e. In doing so, this leads to a really slow shuffle operation later on for moving average, so we're gonna use a less pathological e to enable smaller number of timesteps --> smaller delta_t's. This leads to a different picture, unfortunately, and we're gonna base the moving average off this one. \n",
    "\n",
    "Alternatively, I could've stuck with the high e, but it would've required a really long run (because small delta_t's), or else I end up with significantly greater than 2pi orbits.  "
   ]
  },
  {
   "cell_type": "markdown",
   "id": "known-austin",
   "metadata": {},
   "source": [
    "Me from future: jk, going from manual cycling to pandas moving average with a simple hack makes it fast enough to use 1e6 points, so we're sticking with e=363/365"
   ]
  },
  {
   "cell_type": "code",
   "execution_count": 221,
   "id": "active-termination",
   "metadata": {},
   "outputs": [
    {
     "data": {
      "image/png": "[encoded data removed]",
      "text/plain": [
       "<Figure size 432x288 with 1 Axes>"
      ]
     },
     "metadata": {
      "needs_background": "light"
     },
     "output_type": "display_data"
    },
    {
     "data": {
      "image/png": "[encoded data removed]",
      "text/plain": [
       "<Figure size 432x288 with 1 Axes>"
      ]
     },
     "metadata": {
      "needs_background": "light"
     },
     "output_type": "display_data"
    }
   ],
   "source": [
    "stefan_boltzmann = 5.67e-5 # g s^-3 K^-4\n",
    "L_star = 3.839e33 # erg/s\n",
    "a = 0.7*1.496e13\n",
    "e = 363./365 # from my bday\n",
    "#e = 333./365 # less pathological e\n",
    "#e = 33./365 # well-behaved e for sanity check\n",
    "e = 0.4\n",
    "A = 0.3\n",
    "specific_L = calc_specific_L(a, e, m_star) # recalculate specific L using new a and e\n",
    "\n",
    "def teff(L_star, d, A): # where d is distance from star, ie. r\n",
    "    return (L_star*(1-A)/(4*np.pi*stefan_boltzmann*d**2))**0.25\n",
    "\n",
    "# calculate instantaneous Teff at every timestep\n",
    "temps = []\n",
    "rs = []\n",
    "theta = theta0 # initialize theta at theta0\n",
    "r0 = a*(1-e) # recalculate new initial distance\n",
    "r = r0 # and initialize r\n",
    "tf = calc_period(a, m_star) # recalculate tf\n",
    "#print(\"period: \", tf)\n",
    "#times = np.linspace(t0, tf, 1000000) \n",
    "\n",
    "times = np.linspace(t0, tf, 10000) \n",
    "delta_t = times[1]-times[0]\n",
    "#print(\"delta t: \", delta_t)\n",
    "for times_elt in times:\n",
    "    delta_theta = update_theta(specific_L, r, delta_t)\n",
    "    #print(r/1.496e13, delta_theta)\n",
    "    theta = theta + delta_theta\n",
    "    r = calc_r(a, e, theta)\n",
    "    rs.append(r)\n",
    "    temp = teff(L_star, r, A)\n",
    "    temps.append(temp)\n",
    "    \n",
    "plt.scatter(times, temps, s=2, label=\"Teff\")\n",
    "plt.plot(times, np.ones(len(times))*373, label=\"boiling pt\")\n",
    "plt.plot(times, np.ones(len(times))*273, label=\"freezing pt\")\n",
    "plt.axhspan(273, 373, facecolor='g', alpha=0.5)\n",
    "plt.show()\n",
    "\n",
    "plt.scatter(times, temps, s=2, label=\"Teff\")\n",
    "plt.plot(times, np.ones(len(times))*373, label=\"boiling pt\")\n",
    "plt.plot(times, np.ones(len(times))*273, label=\"freezing pt\")\n",
    "plt.axhspan(273, 373, facecolor='g', alpha=0.5)\n",
    "plt.ylim(200, 500)\n",
    "plt.show()"
   ]
  },
  {
   "cell_type": "code",
   "execution_count": 222,
   "id": "figured-graduation",
   "metadata": {},
   "outputs": [
    {
     "data": {
      "text/plain": [
       "6.284785306622522"
      ]
     },
     "execution_count": 222,
     "metadata": {},
     "output_type": "execute_result"
    }
   ],
   "source": [
    "theta"
   ]
  },
  {
   "cell_type": "markdown",
   "id": "mineral-flood",
   "metadata": {},
   "source": [
    "### Resume regular programming"
   ]
  },
  {
   "cell_type": "markdown",
   "id": "charged-camcorder",
   "metadata": {},
   "source": [
    "#### Now with moving window average to model heat capacity"
   ]
  },
  {
   "cell_type": "code",
   "execution_count": 254,
   "id": "located-tiffany",
   "metadata": {},
   "outputs": [
    {
     "name": "stdout",
     "output_type": "stream",
     "text": [
      "window size:  350551\n"
     ]
    },
    {
     "data": {
      "image/png": "[encoded data removed]",
      "text/plain": [
       "<Figure size 432x288 with 1 Axes>"
      ]
     },
     "metadata": {
      "needs_background": "light"
     },
     "output_type": "display_data"
    },
    {
     "data": {
      "image/png": "[encoded data removed]",
      "text/plain": [
       "<Figure size 432x288 with 1 Axes>"
      ]
     },
     "metadata": {
      "needs_background": "light"
     },
     "output_type": "display_data"
    }
   ],
   "source": [
    "window = 75*24*3600 # choosing 75 days to split the difference of 2-3 months\n",
    "window_size = int(np.floor(window/delta_t))\n",
    "print(\"window size: \", window_size)\n",
    "\n",
    "df = pd.DataFrame()\n",
    "df['times'] = times\n",
    "df['temps'] = temps\n",
    "df = pd.concat([df, df]) # sneaky simple way to allow moving average window to wrap around df\n",
    "#print(pd.concat([df.iloc[window_size:], df.iloc[:window_size]]).rolling(window_size, center=True).mean())\n",
    "#print(df.rolling(window_size, center=True).mean())\n",
    "#plt.scatter(times, pd.concat([df.iloc[window_size:], df.iloc[:window_size]]).rolling(window_size, center=True).mean().temps, s=2)\n",
    "plt.scatter(df.times, df.rolling(window_size, center=True).mean().temps, s=2)\n",
    "plt.scatter(df.times, df.temps, s=2)\n",
    "plt.axhspan(273, 373, facecolor='g', alpha=0.5)\n",
    "plt.show()\n",
    "\n",
    "# zoom in\n",
    "plt.scatter(df.times, df.rolling(window_size, center=True).mean().temps, s=2)\n",
    "plt.scatter(df.times, df.temps, s=2)\n",
    "plt.axhspan(273, 373, facecolor='g', alpha=0.5)\n",
    "plt.ylim(270, 600)\n",
    "plt.show()"
   ]
  },
  {
   "cell_type": "code",
   "execution_count": 126,
   "id": "composed-literacy",
   "metadata": {
    "scrolled": true
   },
   "outputs": [
    {
     "data": {
      "text/html": [
       "<div>\n",
       "<style scoped>\n",
       "    .dataframe tbody tr th:only-of-type {\n",
       "        vertical-align: middle;\n",
       "    }\n",
       "\n",
       "    .dataframe tbody tr th {\n",
       "        vertical-align: top;\n",
       "    }\n",
       "\n",
       "    .dataframe thead th {\n",
       "        text-align: right;\n",
       "    }\n",
       "</style>\n",
       "<table border=\"1\" class=\"dataframe\">\n",
       "  <thead>\n",
       "    <tr style=\"text-align: right;\">\n",
       "      <th></th>\n",
       "      <th>times</th>\n",
       "      <th>temps</th>\n",
       "    </tr>\n",
       "  </thead>\n",
       "  <tbody>\n",
       "    <tr>\n",
       "      <th>1</th>\n",
       "      <td>3.697104e+02</td>\n",
       "      <td>1454.380853</td>\n",
       "    </tr>\n",
       "    <tr>\n",
       "      <th>2</th>\n",
       "      <td>7.394209e+02</td>\n",
       "      <td>1454.341988</td>\n",
       "    </tr>\n",
       "    <tr>\n",
       "      <th>3</th>\n",
       "      <td>1.109131e+03</td>\n",
       "      <td>1454.287585</td>\n",
       "    </tr>\n",
       "    <tr>\n",
       "      <th>4</th>\n",
       "      <td>1.478842e+03</td>\n",
       "      <td>1454.217653</td>\n",
       "    </tr>\n",
       "    <tr>\n",
       "      <th>5</th>\n",
       "      <td>1.848552e+03</td>\n",
       "      <td>1454.132204</td>\n",
       "    </tr>\n",
       "    <tr>\n",
       "      <th>...</th>\n",
       "      <td>...</td>\n",
       "      <td>...</td>\n",
       "    </tr>\n",
       "    <tr>\n",
       "      <th>14341</th>\n",
       "      <td>5.302017e+06</td>\n",
       "      <td>332.280990</td>\n",
       "    </tr>\n",
       "    <tr>\n",
       "      <th>14342</th>\n",
       "      <td>5.302387e+06</td>\n",
       "      <td>332.276487</td>\n",
       "    </tr>\n",
       "    <tr>\n",
       "      <th>14343</th>\n",
       "      <td>5.302757e+06</td>\n",
       "      <td>332.271984</td>\n",
       "    </tr>\n",
       "    <tr>\n",
       "      <th>14344</th>\n",
       "      <td>5.303126e+06</td>\n",
       "      <td>332.267481</td>\n",
       "    </tr>\n",
       "    <tr>\n",
       "      <th>14345</th>\n",
       "      <td>5.303496e+06</td>\n",
       "      <td>332.262980</td>\n",
       "    </tr>\n",
       "  </tbody>\n",
       "</table>\n",
       "<p>14345 rows × 2 columns</p>\n",
       "</div>"
      ],
      "text/plain": [
       "              times        temps\n",
       "1      3.697104e+02  1454.380853\n",
       "2      7.394209e+02  1454.341988\n",
       "3      1.109131e+03  1454.287585\n",
       "4      1.478842e+03  1454.217653\n",
       "5      1.848552e+03  1454.132204\n",
       "...             ...          ...\n",
       "14341  5.302017e+06   332.280990\n",
       "14342  5.302387e+06   332.276487\n",
       "14343  5.302757e+06   332.271984\n",
       "14344  5.303126e+06   332.267481\n",
       "14345  5.303496e+06   332.262980\n",
       "\n",
       "[14345 rows x 2 columns]"
      ]
     },
     "execution_count": 126,
     "metadata": {},
     "output_type": "execute_result"
    }
   ],
   "source": [
    "pd.concat([df.iloc[1:], df.iloc[:1]]).iloc[:window_size] # original way to manually cycle through times"
   ]
  },
  {
   "cell_type": "code",
   "execution_count": null,
   "id": "fifty-bennett",
   "metadata": {},
   "outputs": [],
   "source": [
    "\"\"\"\n",
    "window = 75*24*3600 # choosing 75 days to split the difference of 2-3 months\n",
    "window_size = int(np.floor(window/delta_t))\n",
    "print(\"window size: \", window_size)\n",
    "avg_temps = []\n",
    "for i in range(len(times)):\n",
    "    #while \n",
    "    #index = i-20\n",
    "    #temp_temps = temps[i:] + temps[:i] # shuffle window across and then back around times\n",
    "    temp_temps = pd.concat([df.iloc[i:], df.iloc[:i]]).iloc[:window_size] # faster pandas version of the above\n",
    "    #keep = temp_temps[:window_size]\n",
    "    avg_temp = np.mean(temp_temps.temps)\n",
    "    avg_temps.append(avg_temp)\n",
    "    \n",
    "plt.scatter(times, avg_temps, s=2)\n",
    "plt.show()\n",
    "\"\"\""
   ]
  },
  {
   "cell_type": "code",
   "execution_count": null,
   "id": "behind-mongolia",
   "metadata": {},
   "outputs": [],
   "source": [
    "#plt.scatter(times, temps, s=2)\n",
    "#plt.scatter(times, avg_temps[window_size:] + avg_temps[:window_size], s=2)\n",
    "#plt.show()"
   ]
  },
  {
   "cell_type": "markdown",
   "id": "clinical-expert",
   "metadata": {},
   "source": [
    "#### Now with a land planet"
   ]
  },
  {
   "cell_type": "code",
   "execution_count": 255,
   "id": "statewide-territory",
   "metadata": {},
   "outputs": [
    {
     "name": "stdout",
     "output_type": "stream",
     "text": [
      "window size:  8763\n"
     ]
    },
    {
     "data": {
      "image/png": "[encoded data removed]",
      "text/plain": [
       "<Figure size 432x288 with 1 Axes>"
      ]
     },
     "metadata": {
      "needs_background": "light"
     },
     "output_type": "display_data"
    },
    {
     "data": {
      "image/png": "[encoded data removed]",
      "text/plain": [
       "<Figure size 432x288 with 1 Axes>"
      ]
     },
     "metadata": {
      "needs_background": "light"
     },
     "output_type": "display_data"
    },
    {
     "data": {
      "image/png": "[encoded data removed]",
      "text/plain": [
       "<Figure size 432x288 with 1 Axes>"
      ]
     },
     "metadata": {
      "needs_background": "light"
     },
     "output_type": "display_data"
    }
   ],
   "source": [
    "window = 75*24*3600/40 # land planet has 40x smaller heat capacity, per Dressing et al 2010 Table 1\n",
    "window_size = int(np.floor(window/delta_t))\n",
    "print(\"window size: \", window_size)\n",
    "\n",
    "df = pd.DataFrame()\n",
    "df['times'] = times\n",
    "df['temps'] = temps\n",
    "df = pd.concat([df, df]) # sneaky simple way to allow moving average window to wrap around df\n",
    "#print(pd.concat([df.iloc[window_size:], df.iloc[:window_size]]).rolling(window_size, center=True).mean())\n",
    "#print(df.rolling(window_size, center=True).mean())\n",
    "#plt.scatter(times, pd.concat([df.iloc[window_size:], df.iloc[:window_size]]).rolling(window_size, center=True).mean().temps, s=2)\n",
    "plt.scatter(df.times, df.rolling(window_size, center=True).mean().temps, s=2)\n",
    "plt.scatter(df.times, df.temps, s=2)\n",
    "plt.axhspan(273, 373, facecolor='g', alpha=0.5)\n",
    "plt.show()\n",
    "\n",
    "# zoom in\n",
    "plt.scatter(df.times, df.rolling(window_size, center=True).mean().temps, s=2)\n",
    "plt.scatter(df.times, df.temps, s=2)\n",
    "plt.axhspan(273, 373, facecolor='g', alpha=0.5)\n",
    "plt.ylim(250, 400)\n",
    "plt.show()\n",
    "\n",
    "# zoom in\n",
    "plt.scatter(df.times, df.rolling(window_size, center=True).mean().temps, s=2)\n",
    "plt.scatter(df.times, df.temps, s=2)\n",
    "plt.axhspan(273, 373, facecolor='g', alpha=0.5)\n",
    "plt.xlim(0, 5e5)\n",
    "plt.show()"
   ]
  },
  {
   "cell_type": "code",
   "execution_count": 256,
   "id": "southeast-sympathy",
   "metadata": {},
   "outputs": [
    {
     "data": {
      "image/png": "[encoded data removed]",
      "text/plain": [
       "<Figure size 432x288 with 1 Axes>"
      ]
     },
     "metadata": {
      "needs_background": "light"
     },
     "output_type": "display_data"
    },
    {
     "data": {
      "image/png": "[encoded data removed]",
      "text/plain": [
       "<Figure size 432x288 with 1 Axes>"
      ]
     },
     "metadata": {
      "needs_background": "light"
     },
     "output_type": "display_data"
    }
   ],
   "source": [
    "# plot the difference\n",
    "plt.scatter(df.times, df.temps - df.rolling(window_size, center=True).mean().temps, s=2)\n",
    "plt.show()\n",
    "\n",
    "plt.scatter(df.times, df.temps - df.rolling(window_size, center=True).mean().temps, s=2)\n",
    "plt.ylim(-1, 1)\n",
    "plt.show()"
   ]
  },
  {
   "cell_type": "markdown",
   "id": "least-exercise",
   "metadata": {},
   "source": [
    "Looks like cutting the window down to 75/40, or 1.875, days (out of a period of 0.7 AU), is enough to make it a negligibly impactful averaging kernel for most of a highly eccentric planet's orbit. The major exception is near periastron, when the steep change in temperature leads to a decently-sized difference (and a significant difference when using my actual birthday, of ~1000 K) between windowed average and instantaneous value. Perhaps with finer delta_t's, we might be able to catch the planet at more positions closer to periastron and get a more nuanced temperature curve, but such is the life of a highly-eccentric planet."
   ]
  },
  {
   "cell_type": "markdown",
   "id": "numeric-recipient",
   "metadata": {},
   "source": [
    "#### What would it take to stay entirely within HZ?"
   ]
  },
  {
   "cell_type": "code",
   "execution_count": 259,
   "id": "immediate-prince",
   "metadata": {},
   "outputs": [
    {
     "data": {
      "text/plain": [
       "400.5012060780974"
      ]
     },
     "execution_count": 259,
     "metadata": {},
     "output_type": "execute_result"
    }
   ],
   "source": [
    "np.mean(temps)"
   ]
  },
  {
   "cell_type": "markdown",
   "id": "alleged-robin",
   "metadata": {},
   "source": [
    "Well...it doesn't look like even with window size equal to the entire period of the planet (ie. just averaging the whole time series) at my more modest eccentricity of 333/365, I'd get a habitable zone Teff. "
   ]
  },
  {
   "cell_type": "code",
   "execution_count": 272,
   "id": "temporal-signal",
   "metadata": {},
   "outputs": [
    {
     "data": {
      "image/png": "[encoded data removed]",
      "text/plain": [
       "<Figure size 432x288 with 1 Axes>"
      ]
     },
     "metadata": {
      "needs_background": "light"
     },
     "output_type": "display_data"
    },
    {
     "data": {
      "image/png": "[encoded data removed]",
      "text/plain": [
       "<Figure size 432x288 with 1 Axes>"
      ]
     },
     "metadata": {
      "needs_background": "light"
     },
     "output_type": "display_data"
    }
   ],
   "source": [
    "stefan_boltzmann = 5.67e-5 # g s^-3 K^-4\n",
    "L_star = 3.839e33 # erg/s\n",
    "a = 0.7*1.496e13\n",
    "e = 363./365 # from my bday\n",
    "e = 333./365 # less pathological e\n",
    "#e = 0.4 # even less pathological e\n",
    "A = 0.3\n",
    "specific_L = calc_specific_L(a, e, m_star) # recalculate specific L using new a and e\n",
    "\n",
    "def teff(L_star, d, A): # where d is distance from star, ie. r\n",
    "    return (L_star*(1-A)/(4*np.pi*stefan_boltzmann*d**2))**0.25\n",
    "\n",
    "# calculate instantaneous Teff at every timestep\n",
    "temps = []\n",
    "rs = []\n",
    "theta = theta0 # initialize theta at theta0\n",
    "r0 = a*(1-e) # recalculate new initial distance\n",
    "r = r0 # and initialize r\n",
    "tf = calc_period(a, m_star) # recalculate tf\n",
    "#print(\"period: \", tf)\n",
    "times = np.linspace(t0, tf, 1000000) \n",
    "delta_t = times[1]-times[0]\n",
    "#print(\"delta t: \", delta_t)\n",
    "for times_elt in times:\n",
    "    delta_theta = update_theta(specific_L, r, delta_t)\n",
    "    #print(r/1.496e13, delta_theta)\n",
    "    theta = theta + delta_theta\n",
    "    r = calc_r(a, e, theta)\n",
    "    rs.append(r)\n",
    "    temp = teff(L_star, r, A)\n",
    "    temps.append(temp)\n",
    "    \n",
    "plt.scatter(times, temps, s=2, label=\"Teff\")\n",
    "plt.plot(times, np.ones(len(times))*373, label=\"boiling pt\")\n",
    "plt.plot(times, np.ones(len(times))*273, label=\"freezing pt\")\n",
    "plt.axhspan(273, 373, facecolor='g', alpha=0.5)\n",
    "plt.show()\n",
    "\n",
    "plt.scatter(times, temps, s=2, label=\"Teff\")\n",
    "plt.plot(times, np.ones(len(times))*373, label=\"boiling pt\")\n",
    "plt.plot(times, np.ones(len(times))*273, label=\"freezing pt\")\n",
    "plt.axhspan(273, 373, facecolor='g', alpha=0.5)\n",
    "plt.ylim(200, 500)\n",
    "plt.show()"
   ]
  },
  {
   "cell_type": "code",
   "execution_count": 269,
   "id": "confused-serial",
   "metadata": {},
   "outputs": [
    {
     "data": {
      "text/plain": [
       "6.283194926315768"
      ]
     },
     "execution_count": 269,
     "metadata": {},
     "output_type": "execute_result"
    }
   ],
   "source": [
    "theta"
   ]
  },
  {
   "cell_type": "code",
   "execution_count": 270,
   "id": "universal-undergraduate",
   "metadata": {},
   "outputs": [
    {
     "data": {
      "text/plain": [
       "429.55478411386906"
      ]
     },
     "execution_count": 270,
     "metadata": {},
     "output_type": "execute_result"
    }
   ],
   "source": [
    "np.mean(temps)"
   ]
  },
  {
   "cell_type": "code",
   "execution_count": 280,
   "id": "similar-genius",
   "metadata": {},
   "outputs": [
    {
     "name": "stdout",
     "output_type": "stream",
     "text": [
      "0.9\n",
      "0.899999\n"
     ]
    }
   ],
   "source": [
    "window = 75*24*3600\n",
    "window = 0.9*tf\n",
    "window_size = int(np.floor(window/delta_t))\n",
    "print(window/tf)\n",
    "print(window_size/len(times))"
   ]
  },
  {
   "cell_type": "code",
   "execution_count": 289,
   "id": "serious-baking",
   "metadata": {},
   "outputs": [
    {
     "name": "stdout",
     "output_type": "stream",
     "text": [
      "window size:  349999\n",
      "number of timesteps:  1000000\n"
     ]
    },
    {
     "data": {
      "image/png": "[encoded data removed]",
      "text/plain": [
       "<Figure size 432x288 with 1 Axes>"
      ]
     },
     "metadata": {
      "needs_background": "light"
     },
     "output_type": "display_data"
    },
    {
     "data": {
      "image/png": "[encoded data removed]",
      "text/plain": [
       "<Figure size 432x288 with 1 Axes>"
      ]
     },
     "metadata": {
      "needs_background": "light"
     },
     "output_type": "display_data"
    },
    {
     "data": {
      "image/png": "[encoded data removed]",
      "text/plain": [
       "<Figure size 432x288 with 1 Axes>"
      ]
     },
     "metadata": {
      "needs_background": "light"
     },
     "output_type": "display_data"
    }
   ],
   "source": [
    "window = 75*24*3600\n",
    "window = 0.35*tf\n",
    "window_size = int(np.floor(window/delta_t))\n",
    "print(\"window size: \", window_size)\n",
    "print(\"number of timesteps: \", len(times))\n",
    "\n",
    "df = pd.DataFrame()\n",
    "df['times'] = times\n",
    "df['temps'] = temps\n",
    "df = pd.concat([df, df]) # sneaky simple way to allow moving average window to wrap around df\n",
    "#print(pd.concat([df.iloc[window_size:], df.iloc[:window_size]]).rolling(window_size, center=True).mean())\n",
    "#print(df.rolling(window_size, center=True).mean())\n",
    "#plt.scatter(times, pd.concat([df.iloc[window_size:], df.iloc[:window_size]]).rolling(window_size, center=True).mean().temps, s=2)\n",
    "plt.scatter(df.times, df.rolling(window_size, center=True).mean().temps, s=2)\n",
    "plt.scatter(df.times, df.temps, s=2)\n",
    "plt.axhspan(273, 373, facecolor='g', alpha=0.5)\n",
    "plt.show()\n",
    "\n",
    "# zoom in\n",
    "plt.scatter(df.times, df.rolling(window_size, center=True).mean().temps, s=2)\n",
    "plt.scatter(df.times, df.temps, s=2)\n",
    "plt.axhspan(273, 373, facecolor='g', alpha=0.5)\n",
    "plt.ylim(250, 400)\n",
    "plt.show()\n",
    "\n",
    "\n",
    "# zoom in\n",
    "plt.scatter(df.times, df.rolling(window_size, center=True).mean().temps, s=2)\n",
    "plt.scatter(df.times, df.temps, s=2)\n",
    "plt.axhspan(273, 373, facecolor='g', alpha=0.5)\n",
    "plt.xlim(0, 5e5)\n",
    "plt.show()"
   ]
  },
  {
   "cell_type": "markdown",
   "id": "serial-elizabeth",
   "metadata": {},
   "source": [
    "### 3b"
   ]
  },
  {
   "cell_type": "markdown",
   "id": "civilian-nigeria",
   "metadata": {},
   "source": [
    "Plot the isolation mass for a growing planet (in units of Earth masses) as a function of distance from the Sun (in units of AU, from 0 to 10 AU)."
   ]
  },
  {
   "cell_type": "code",
   "execution_count": 321,
   "id": "identified-hollywood",
   "metadata": {},
   "outputs": [
    {
     "name": "stdout",
     "output_type": "stream",
     "text": [
      "16622222222222.223 1.2563855790439834e-28 4.592691270233197e+39\n",
      "33244444444444.445 2.6412253239863703e-29 3.6741530161865575e+40\n",
      "49866666666666.67 1.0607184421062869e-29 1.2400266429629633e+41\n",
      "66488888888888.89 5.552492267043673e-30 2.939322412949246e+41\n",
      "83111111111111.11 2.6886261609531267e-29 5.740864087791495e+41\n",
      "99733333333333.34 1.7839086711213625e-29 9.920213143703707e+41\n",
      "116355555555555.56 1.261079133934784e-29 1.5752931056899864e+42\n",
      "132977777777777.78 9.338141686161993e-30 2.3514579303593968e+42\n",
      "149600000000000.0 7.164193108809952e-30 3.348071936e+42\n"
     ]
    },
    {
     "data": {
      "image/png": "[encoded data removed]",
      "text/plain": [
       "<Figure size 432x288 with 1 Axes>"
      ]
     },
     "metadata": {
      "needs_background": "light"
     },
     "output_type": "display_data"
    }
   ],
   "source": [
    "def sigma_p(r):\n",
    "    sigma0 = 1.7e3 # g cm^-2\n",
    "    try:\n",
    "        if (r < 5*1.496e13) & (r > 0): # < 5 AU, the current frostline (Jewitt et al 2007 [but really Wikipedia])\n",
    "            return 0.01*sigma0*r**-1.5\n",
    "        elif r >= 5*1.496e13:\n",
    "            return 0.04*sigma0*r**-1.5\n",
    "\n",
    "    except ValueError:\n",
    "        print(r, \"invalid r\")\n",
    "\n",
    "def calc_miso(r, m_star):\n",
    "    #print(sigma_p(r))\n",
    "    m_isos = []\n",
    "    for r_elt in r:\n",
    "        print(r_elt, (sigma_p(r_elt))**1.5, r_elt**3)\n",
    "        m_isos.append(166 * ((m_star/1.988e33)**0.5) * ((sigma_p(r_elt))**1.5) * r_elt**3)\n",
    "    return m_isos\n",
    "\n",
    "distances = 1.496e13*np.linspace(0, 10, 10)[1:] # avoid dividing by zero\n",
    "m_isos = calc_miso(distances, m_star)\n",
    "#print(m_isos)\n",
    "m_isos = [m_isos_elt/5.972e27 for m_isos_elt in m_isos] # convert to Earth masses\n",
    "distances = np.linspace(0, 10, 10)[1:] # back to AU for plotting\n",
    "plt.scatter(distances, m_isos, s=2)\n",
    "plt.show()"
   ]
  },
  {
   "cell_type": "markdown",
   "id": "incomplete-papua",
   "metadata": {},
   "source": [
    "### 3c"
   ]
  },
  {
   "cell_type": "code",
   "execution_count": 325,
   "id": "centered-coordinate",
   "metadata": {},
   "outputs": [
    {
     "name": "stdout",
     "output_type": "stream",
     "text": [
      "257.16963867289195\n",
      "152.913982036241\n",
      "112.8180927925918\n",
      "90.92319771044805\n",
      "76.91166115132214\n",
      "67.08203932499369\n",
      "59.75801523508778\n",
      "54.06325681803197\n",
      "49.49232003839766\n"
     ]
    },
    {
     "data": {
      "image/png": "[encoded data removed]",
      "text/plain": [
       "<Figure size 432x288 with 1 Axes>"
      ]
     },
     "metadata": {
      "needs_background": "light"
     },
     "output_type": "display_data"
    }
   ],
   "source": [
    "def calc_t_disk(r):\n",
    "    t4 = 6e9 * (r/1.496e13)**-3 \n",
    "    return t4**0.25\n",
    "\n",
    "def calc_m_env(rho_m, t_disk, r):\n",
    "    term1 = rho_m**-0.5\n",
    "    term2 = t_disk**1.5\n",
    "    term3 = (np.log(2*rho_m*r/sigma_p(r)))**1.5\n",
    "    \n",
    "    return 1.6e-6*term1*term2*term3\n",
    "\n",
    "rho_earth = 5.5 # proxy for rocky planet within snow line\n",
    "rho_pluto = 1.9 # proxy for icy body beyond snow line\n",
    "\n",
    "m_envs = []\n",
    "distances = 1.496e13*np.linspace(0, 10, 10)[1:] # avoid dividing by zero\n",
    "for r_elt in distances:\n",
    "    print(calc_t_disk(r_elt))\n",
    "    if (r < 5*1.496e13) & (r > 0): \n",
    "        m_env = calc_m_env(rho_earth, calc_t_disk(r_elt), r_elt)\n",
    "        m_envs.append(m_env)\n",
    "        \n",
    "    elif r >= 5*1.496e13: # icy body density beyond snow line\n",
    "        m_env = calc_m_env(rho_pluto, calc_t_disk(r_elt), r_elt)\n",
    "        m_envs.append(m_env)\n",
    "        \n",
    "m_envs = [m_envs_elt/5.972e27 for m_envs_elt in m_envs] # convert to Earth masses\n",
    "distances = np.linspace(0, 10, 10)[1:] # back to AU for plotting\n",
    "plt.scatter(distances, m_envs, s=2)\n",
    "plt.show()"
   ]
  },
  {
   "cell_type": "markdown",
   "id": "extended-sister",
   "metadata": {},
   "source": [
    "### 3d"
   ]
  },
  {
   "cell_type": "markdown",
   "id": "general-workstation",
   "metadata": {},
   "source": [
    "The planets that formed closer to the Sun have higher M_envs but lower M_isos. That is, their threshold for accreting a significant atmosphere is higher, while the mass at which their mass accretion drastically slows down is lower (and so their terminal mass is also lower), which is the opposite of what's needed to acquire substantial gas envelopes. "
   ]
  },
  {
   "cell_type": "code",
   "execution_count": null,
   "id": "applicable-literacy",
   "metadata": {},
   "outputs": [],
   "source": []
  }
 ],
 "metadata": {
  "kernelspec": {
   "display_name": "Python 3 (ipykernel)",
   "language": "python",
   "name": "python3"
  },
  "language_info": {
   "codemirror_mode": {
    "name": "ipython",
    "version": 3
   },
   "file_extension": ".py",
   "mimetype": "text/x-python",
   "name": "python",
   "nbconvert_exporter": "python",
   "pygments_lexer": "ipython3",
   "version": "3.7.9"
  }
 },
 "nbformat": 4,
 "nbformat_minor": 5
}
