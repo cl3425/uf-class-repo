{
 "cells": [
  {
   "cell_type": "markdown",
   "id": "loose-sleep",
   "metadata": {},
   "source": [
    "### 1d"
   ]
  },
  {
   "cell_type": "code",
   "execution_count": 1,
   "id": "together-replacement",
   "metadata": {},
   "outputs": [],
   "source": [
    "import numpy as np\n",
    "import matplotlib.pyplot as plt\n",
    "%matplotlib inline"
   ]
  },
  {
   "cell_type": "code",
   "execution_count": 3,
   "id": "controversial-headquarters",
   "metadata": {},
   "outputs": [
    {
     "name": "stdout",
     "output_type": "stream",
     "text": [
      "4.455198800502622e+19\n"
     ]
    }
   ],
   "source": [
    "year_to_seconds = 365.*24*3600\n",
    "t0 = 0\n",
    "tf = 1*year_to_seconds\n",
    "period = 1*year_to_seconds # Earth year in seconds\n",
    "theta0 = 0\n",
    "a = 1*1.496e13 # 1 AU in cm\n",
    "e = 0 # circle\n",
    "m_star = 1*1.988e33 # 1 solar mass in grams \n",
    "r0 = a*(1-e) # periastron, aka initial/seeding distance\n",
    "G = 6.674e-8 # in cgs (previously 1 in solar mass/AU/year units)\n",
    "\n",
    "def update_theta(specific_L, r, delta_t):\n",
    "    delta_theta = (specific_L/(r**2)) * delta_t\n",
    "    return delta_theta\n",
    "\n",
    "def calc_specific_L(a, e, m_star):\n",
    "    return np.sqrt(G * m_star * a * (1-e**2))\n",
    "\n",
    "def calc_r(a, e, theta):\n",
    "    numerator = a*(1-e**2)\n",
    "    denominator = 1 + e*np.cos(theta)\n",
    "    return numerator/denominator\n",
    "\n",
    "specific_L = calc_specific_L(a, e, m_star)\n",
    "print(specific_L)"
   ]
  },
  {
   "cell_type": "code",
   "execution_count": 4,
   "id": "angry-coaching",
   "metadata": {},
   "outputs": [
    {
     "data": {
      "image/png": "[encoded data removed]",
      "text/plain": [
       "<Figure size 432x288 with 1 Axes>"
      ]
     },
     "metadata": {
      "needs_background": "light"
     },
     "output_type": "display_data"
    }
   ],
   "source": [
    "times = np.linspace(t0, tf, 366) # one iteration per day\n",
    "delta_t = 1.*year_to_seconds/365\n",
    "theta = theta0 # initialize theta at theta0\n",
    "r = r0 # initialize r at r0\n",
    "fig = plt.figure()\n",
    "ax = fig.add_subplot(111,aspect='equal') # force 1 to 1 aspect ratio to confirm that it's a circle\n",
    "for times_elt in times:\n",
    "    delta_theta = update_theta(specific_L, r, delta_t)\n",
    "    theta = theta + delta_theta\n",
    "    r = calc_r(a, e, theta)\n",
    "    x = r*np.cos(theta)\n",
    "    y = r*np.sin(theta)\n",
    "    #print(theta, x, y)\n",
    "    plt.scatter(x, y, color='purple')\n",
    "plt.show()"
   ]
  },
  {
   "cell_type": "markdown",
   "id": "curious-nelson",
   "metadata": {},
   "source": [
    "### 2d"
   ]
  },
  {
   "cell_type": "code",
   "execution_count": 5,
   "id": "lesbian-works",
   "metadata": {},
   "outputs": [
    {
     "data": {
      "text/plain": [
       "31536000.0"
      ]
     },
     "execution_count": 5,
     "metadata": {},
     "output_type": "execute_result"
    }
   ],
   "source": [
    "tf"
   ]
  },
  {
   "cell_type": "code",
   "execution_count": 11,
   "id": "active-termination",
   "metadata": {},
   "outputs": [
    {
     "name": "stdout",
     "output_type": "stream",
     "text": [
      "period:  22584524.32814435\n",
      "delta t:  228126.50836509443\n",
      "0.004383561643835599 220.98267905194433\n",
      "0.0059216984466824345 121.09323878779854\n",
      "0.12778285119609392 0.26005626589649133\n",
      "0.8559157720883359 0.005796294087896002\n",
      "0.9041779489832003 0.005194032325823358\n",
      "0.9493725068396225 0.0047112827494743634\n",
      "0.9918517015452663 0.0043163731800551575\n",
      "1.0318923881441553 0.003987894431811957\n",
      "1.069717366322236 0.0037108583591417355\n",
      "1.1055094116685045 0.0034744621285184235\n",
      "1.1394208657775362 0.00327072578122746\n",
      "1.171580405838855 0.003093629293440534\n",
      "1.2020979547618074 0.002938547764165746\n",
      "1.2310683260492603 0.002801871125449094\n",
      "1.2585739840866903 0.0026807417018773084\n",
      "1.2846871712717272 0.002572869129403204\n",
      "1.3094715725040196 0.0024763972973330293\n",
      "1.332983635422384 0.00238980703499133\n",
      "1.3552736302835848 0.0023118438351958266\n",
      "1.3763865100498311 0.002241463420838874\n",
      "1.3963626151251334 0.002177790229026239\n",
      "1.4152382558453618 0.0021200853815807833\n",
      "1.4330461977172655 0.002067721713902694\n",
      "1.4498160685075432 0.0020201641192409358\n",
      "1.46557470194399 0.0019769539406172204\n",
      "1.4803464295563222 0.0019376964770337522\n",
      "1.4941533297426943 0.001902050909066268\n",
      "1.5070154412847183 0.0018697221211211978\n",
      "1.5189509470987133 0.001840454023383802\n",
      "1.5299763328911151 0.0018140240693260343\n",
      "1.5401065245143895 0.001790238733862653\n",
      "1.5493550071231745 0.0017689297693791824\n",
      "1.557733928675367 0.0017499510964676124\n",
      "1.5652541898802674 0.0017331762165634812\n",
      "1.5719255223317028 0.0017184960571647414\n",
      "1.577756556274159 0.0017058171786147234\n",
      "1.582754879202634 0.0016950602858528789\n",
      "1.5869270862968219 0.0016861589999807977\n",
      "1.5902788235249115 0.0016790588536709217\n",
      "1.5928148241062716 0.0016737164819128516\n",
      "1.5945389389040323 0.0016700989857260286\n",
      "1.595454161213012 0.0016681834516085912\n",
      "1.5955626463167971 0.0016679566138808966\n",
      "1.5948657261088621 0.0016694146509175143\n",
      "1.5933639189978477 0.0016725631097243275\n",
      "1.5910569352513695 0.0016774169565375858\n",
      "1.5879436778705538 0.0016840007542369595\n",
      "1.5840222390263625 0.001692348970499664\n",
      "1.5792898920312344 0.0017025064238924293\n",
      "1.5737430787597266 0.0017145288786422764\n",
      "1.5673773923710874 0.0017284838027853628\n",
      "1.5601875551232756 0.0017444513089351732\n",
      "1.5521673909973528 0.0017625253022468424\n",
      "1.5433097927791937 0.001782814866517944\n",
      "1.5336066831572535 0.0018054459271020288\n",
      "1.5230489693041673 0.0018305632387890086\n",
      "1.5116264902974856 0.0018583327585854593\n",
      "1.4993279566132782 0.001888944478057523\n",
      "1.48614088077533 0.0019226158085225867\n",
      "1.4720514980756803 0.0019595956360561008\n",
      "1.4570446760659803 0.00200016919370721\n",
      "1.4411038112888528 0.0020446639375839384\n",
      "1.42421071140916 0.002093456664727784\n",
      "1.4063454605529615 0.002146982177987131\n",
      "1.3874862652289908 0.0022057438922721997\n",
      "1.3676092776624422 0.002270326895839657\n",
      "1.346688392722015 0.0023414141411443605\n",
      "1.3246950137907223 0.0024198066591902523\n",
      "1.3015977819117712 0.002506448993517341\n",
      "1.2773622612451088 0.0026024614711160827\n",
      "1.2519505722379547 0.0027091815215711493\n",
      "1.2253209618172327 0.002828217104674424\n",
      "1.197427297234607 0.0029615165370991425\n",
      "1.1682184666946493 0.003111460819492096\n",
      "1.1376376653642666 0.0032809872743808067\n",
      "1.1056215393454683 0.003473757432384496\n",
      "1.0720991522388499 0.003694388516134755\n",
      "1.0369907282530142 0.003948778050994003\n",
      "1.0002061114152883 0.004244567682801448\n",
      "0.9616428608955452 0.0045918199137342346\n",
      "0.9211838757632808 0.005004028974366785\n",
      "0.8786944060689061 0.005499671475429503\n",
      "0.8340182577235099 0.0061046582277233565\n",
      "0.786972933080655 0.006856348427322555\n",
      "0.7373433669457107 0.007810393507603121\n",
      "0.684873829901561 0.009052975141857399\n",
      "0.6292575270583717 0.010723971036904976\n",
      "0.5701235951008846 0.013063947927686172\n",
      "0.5070221741990328 0.01651804193173843\n",
      "0.4394119634249724 0.021992202061373478\n",
      "0.36666814387176533 0.031583925791415716\n",
      "0.2881788258515189 0.051131476718084504\n",
      "0.20380108893381285 0.10223496919111867\n",
      "0.1158368133493252 0.31646032333360846\n",
      "0.037134141324914646 3.0793971177399198\n",
      "0.0048502532141407725 180.50267670092063\n",
      "0.00594569112191694 120.11791440443322\n",
      "0.004512835893656046 208.50351885407034\n",
      "0.005203958516932257 156.79955249587547\n",
      "0.0047153559179368395 190.97807546560398\n"
     ]
    },
    {
     "data": {
      "image/png": "[encoded data removed]",
      "text/plain": [
       "<Figure size 432x288 with 1 Axes>"
      ]
     },
     "metadata": {
      "needs_background": "light"
     },
     "output_type": "display_data"
    }
   ],
   "source": [
    "stefan_boltzmann = 5.67e-5 # g s^-3 K^-4\n",
    "L_star = 3.839e33 # erg/s\n",
    "a = 0.8*1.496e13\n",
    "e = 363./365 # from my bday\n",
    "#e = 0.4\n",
    "A = 0.3\n",
    "specific_L = calc_specific_L(a, e, m_star) # recalculate specific L using new a and e\n",
    "\n",
    "def teff(L_star, d, A): # where d is distance from star, ie. r\n",
    "    return (L_star*(1-A)/(4*np.pi*stefan_boltzmann*d**2))**0.25\n",
    "\n",
    "def calc_period(a, m_star):\n",
    "    tf = ((4*np.pi**2*a**3)/(G*(m_star)))**0.5 # take m_p as zero, since m_p << m_star\n",
    "    return tf\n",
    "\n",
    "# calculate instantaneous Teff at every timestep\n",
    "temps = []\n",
    "rs = []\n",
    "theta = theta0 # initialize theta at theta0\n",
    "r0 = a*(1-e) # recalculate new initial distance\n",
    "r = r0 # and initialize r\n",
    "tf = calc_period(a, m_star) # recalculate tf\n",
    "print(\"period: \", tf)\n",
    "times = np.linspace(t0, tf, 100) \n",
    "delta_t = times[1]-times[0]\n",
    "print(\"delta t: \", delta_t)\n",
    "for times_elt in times:\n",
    "    delta_theta = update_theta(specific_L, r, delta_t)\n",
    "    print(r/1.496e13, delta_theta)\n",
    "    theta = theta + delta_theta\n",
    "    r = calc_r(a, e, theta)\n",
    "    rs.append(r)\n",
    "    temp = teff(L_star, r, A)\n",
    "    temps.append(temp)\n",
    "    \n",
    "plt.scatter(times, temps, s=5, label=\"Teff\")\n",
    "plt.plot(times, np.ones(len(times))*373, label=\"boiling pt\")\n",
    "plt.plot(times, np.ones(len(times))*273, label=\"freezing pt\")\n",
    "#plt.ylim(0, 900)\n",
    "plt.show()"
   ]
  },
  {
   "cell_type": "code",
   "execution_count": 7,
   "id": "infrared-covering",
   "metadata": {},
   "outputs": [
    {
     "name": "stdout",
     "output_type": "stream",
     "text": [
      "1.119958699873516\n",
      "0.4800003415875752\n",
      "520.048966125731 340.45836303999005\n"
     ]
    }
   ],
   "source": [
    "print(max(rs)/1.496e13)\n",
    "print(min(rs)/1.496e13)\n",
    "print(max(temps), min(temps))"
   ]
  },
  {
   "cell_type": "code",
   "execution_count": 12,
   "id": "suffering-bicycle",
   "metadata": {},
   "outputs": [
    {
     "data": {
      "text/plain": [
       "1203.108621379137"
      ]
     },
     "execution_count": 12,
     "metadata": {},
     "output_type": "execute_result"
    }
   ],
   "source": [
    "theta"
   ]
  },
  {
   "cell_type": "code",
   "execution_count": 9,
   "id": "neural-frame",
   "metadata": {},
   "outputs": [
    {
     "data": {
      "text/plain": [
       "519.0536557787417"
      ]
     },
     "execution_count": 9,
     "metadata": {},
     "output_type": "execute_result"
    }
   ],
   "source": [
    "temps[-1]"
   ]
  },
  {
   "cell_type": "code",
   "execution_count": null,
   "id": "stupid-generic",
   "metadata": {},
   "outputs": [],
   "source": []
  }
 ],
 "metadata": {
  "kernelspec": {
   "display_name": "Python 3 (ipykernel)",
   "language": "python",
   "name": "python3"
  },
  "language_info": {
   "codemirror_mode": {
    "name": "ipython",
    "version": 3
   },
   "file_extension": ".py",
   "mimetype": "text/x-python",
   "name": "python",
   "nbconvert_exporter": "python",
   "pygments_lexer": "ipython3",
   "version": "3.7.9"
  }
 },
 "nbformat": 4,
 "nbformat_minor": 5
}
