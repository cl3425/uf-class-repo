{
 "cells": [
  {
   "cell_type": "code",
   "execution_count": 194,
   "id": "colored-picnic",
   "metadata": {},
   "outputs": [],
   "source": [
    "import numpy as np\n",
    "import pandas as pd\n",
    "import matplotlib.pyplot as plt\n",
    "import datetime\n",
    "from scipy.optimize import curve_fit\n",
    "%matplotlib inline"
   ]
  },
  {
   "cell_type": "markdown",
   "id": "electronic-arbor",
   "metadata": {},
   "source": [
    "### #1"
   ]
  },
  {
   "cell_type": "code",
   "execution_count": 195,
   "id": "prepared-salem",
   "metadata": {},
   "outputs": [],
   "source": [
    "### This cell is just for the constants, conversion factors, and functions from HW 1\n",
    "year_to_seconds = 365.*24*3600\n",
    "t0 = 0\n",
    "tf = 1*year_to_seconds\n",
    "period = 1*year_to_seconds # Earth year in seconds\n",
    "theta0 = 0\n",
    "a = 1*1.496e13 # 1 AU in cm\n",
    "e = 0 # circle\n",
    "r_star = 1*6.96e10 # 1 solar radius in cm\n",
    "m_star = 1*1.988e33 # 1 solar mass in grams \n",
    "r0 = a*(1-e) # periastron, aka initial/seeding distance\n",
    "G = 6.674e-8 # in cgs (previously 1 in solar mass/AU/year units)\n",
    "\n",
    "def update_theta(specific_L, r, delta_t):\n",
    "    delta_theta = (specific_L/(r**2)) * delta_t\n",
    "    return delta_theta\n",
    "\n",
    "def calc_specific_L(a, e, m_star):\n",
    "    return np.sqrt(G * m_star * a * (1-e**2))\n",
    "\n",
    "def calc_r(a, e, theta):\n",
    "    numerator = a*(1-e**2)\n",
    "    denominator = 1 + e*np.cos(theta)\n",
    "    return numerator/denominator\n",
    "\n",
    "specific_L = calc_specific_L(a, e, m_star)"
   ]
  },
  {
   "cell_type": "code",
   "execution_count": 197,
   "id": "competitive-gabriel",
   "metadata": {},
   "outputs": [
    {
     "data": {
      "image/png": "[encoded data removed]",
      "text/plain": [
       "<Figure size 432x288 with 1 Axes>"
      ]
     },
     "metadata": {
      "needs_background": "light"
     },
     "output_type": "display_data"
    },
    {
     "name": "stdout",
     "output_type": "stream",
     "text": [
      "       time             r     theta\n",
      "0       0.0  1.496000e+13  0.000000\n",
      "1   86400.0  1.496000e+13  0.017200\n",
      "2  172800.0  1.496000e+13  0.034399\n",
      "3  259200.0  1.496000e+13  0.051599\n",
      "4  345600.0  1.496000e+13  0.068798\n"
     ]
    }
   ],
   "source": [
    "### Testing testing\n",
    "rs = []\n",
    "thetas = []\n",
    "times = np.linspace(t0, tf, 366) # one iteration per day\n",
    "delta_t = 1.*year_to_seconds/365\n",
    "theta = theta0 # initialize theta at theta0\n",
    "r = r0 # initialize r at r0\n",
    "fig = plt.figure()\n",
    "ax = fig.add_subplot(111,aspect='equal') # force 1 to 1 aspect ratio to confirm that it's a circle\n",
    "for times_elt in times:\n",
    "    rs.append(r)\n",
    "    thetas.append(theta)\n",
    "    delta_theta = update_theta(specific_L, r, delta_t)\n",
    "    theta = theta + delta_theta\n",
    "    r = calc_r(a, e, theta)\n",
    "    x = r*np.cos(theta)\n",
    "    y = r*np.sin(theta)\n",
    "    #print(theta, x, y)\n",
    "    plt.scatter(x, y, color='purple', s=2) # this was fraught. Never again.\n",
    "    \n",
    "plt.scatter(0, 0, color='red')\n",
    "plt.show()\n",
    "\n",
    "df = pd.DataFrame()\n",
    "df['time'] = times\n",
    "df['r'] = rs\n",
    "df['theta'] = thetas\n",
    "print(df.head())"
   ]
  },
  {
   "cell_type": "markdown",
   "id": "attached-verse",
   "metadata": {},
   "source": [
    "#### 1a)"
   ]
  },
  {
   "cell_type": "code",
   "execution_count": 198,
   "id": "strange-professional",
   "metadata": {},
   "outputs": [
    {
     "name": "stdout",
     "output_type": "stream",
     "text": [
      "time elapsed:  0:00:00.622654\n"
     ]
    },
    {
     "data": {
      "image/png": "[encoded data removed]",
      "text/plain": [
       "<Figure size 432x288 with 1 Axes>"
      ]
     },
     "metadata": {
      "needs_background": "light"
     },
     "output_type": "display_data"
    }
   ],
   "source": [
    "def calc_period(a, m_star):\n",
    "    tf = ((4*np.pi**2*a**3)/(G*(m_star)))**0.5 # take m_p as zero, since m_p << m_star\n",
    "    return tf\n",
    "\n",
    "def vis_viva(M, r, a):\n",
    "    diff = (2./r) - (1./a)\n",
    "    return np.sqrt(G*M*diff)\n",
    "\n",
    "a = 1.*1.496e13\n",
    "e = 363./365 # from my bday\n",
    "# old bday was so close to the end of the calendar that it needed a super low delta_t to make delta_thetas reasonable\n",
    "# but we're not asked for this in 2d, so gonna return to e = 363/365 for the temperature part after this\n",
    "e = 333./365 \n",
    "\n",
    "specific_L = calc_specific_L(a, e, m_star) # recalculate specific L using new a and e\n",
    "theta = theta0 # initialize theta at theta0\n",
    "r0 = a*(1-e) # recalculate new initial distance\n",
    "r = r0 # and initialize r\n",
    "tf = calc_period(a, m_star) # recalculate tf\n",
    "times = np.linspace(t0, tf, 50000) # 10000 timesteps for 1a; 50000 timesteps for 1b\n",
    "delta_t = times[1]-times[0]\n",
    "\n",
    "#rs = []\n",
    "rs = np.zeros(len(times))\n",
    "thetas = np.zeros(len(times))\n",
    "xs = np.zeros(len(times))\n",
    "ys = np.zeros(len(times))\n",
    "vis_vivas = np.zeros(len(times))\n",
    "\n",
    "#fig = plt.figure()\n",
    "#ax = fig.add_subplot(111,aspect='equal') # force 1 to 1 aspect ratio to confirm that it's a circle\n",
    "start = datetime.datetime.now()\n",
    "for i, times_elt in enumerate(times):\n",
    "    #rs.append(r)\n",
    "    rs[i] = r\n",
    "    thetas[i] = theta\n",
    "    delta_theta = update_theta(specific_L, r, delta_t)\n",
    "    theta = theta + delta_theta\n",
    "    r = calc_r(a, e, theta)\n",
    "    x = r*np.cos(theta)\n",
    "    y = r*np.sin(theta)\n",
    "    xs[i] = x\n",
    "    ys[i] = y\n",
    "    #print(theta, x, y)\n",
    "    vis_vivas[i] = vis_viva(m_star, r, a)\n",
    "\n",
    "end = datetime.datetime.now()\n",
    "print(\"time elapsed: \", end-start)\n",
    "\n",
    "plt.scatter(xs, ys, color='purple', s=2)\n",
    "plt.scatter(0, 0, color='red')\n",
    "\n",
    "plt.show()\n",
    "\n",
    "#df = pd.DataFrame()\n",
    "#df['time'] = times\n",
    "#df['r'] = rs\n",
    "#df['theta'] = thetas\n",
    "#print(df.head())"
   ]
  },
  {
   "cell_type": "code",
   "execution_count": 199,
   "id": "wooden-engine",
   "metadata": {},
   "outputs": [
    {
     "name": "stdout",
     "output_type": "stream",
     "text": [
      "          times    thetas             r             x             y  \\\n",
      "0      0.000000  0.000000  1.311562e+12  1.311546e+12  8.780197e+09   \n",
      "1    631.269271  0.006694  1.311576e+12  1.311500e+12  1.756038e+10   \n",
      "2   1262.538542  0.013389  1.311618e+12  1.311423e+12  2.634033e+10   \n",
      "3   1893.807813  0.020083  1.311688e+12  1.311316e+12  3.511986e+10   \n",
      "4   2525.077083  0.026776  1.311786e+12  1.311177e+12  4.389875e+10   \n",
      "5   3156.346354  0.033468  1.311912e+12  1.311008e+12  5.267680e+10   \n",
      "6   3787.615625  0.040159  1.312066e+12  1.310809e+12  6.145380e+10   \n",
      "7   4418.884896  0.046848  1.312249e+12  1.310578e+12  7.022955e+10   \n",
      "8   5050.154167  0.053535  1.312459e+12  1.310317e+12  7.900385e+10   \n",
      "9   5681.423438  0.060221  1.312697e+12  1.310026e+12  8.777649e+10   \n",
      "10  6312.692709  0.066904  1.312963e+12  1.309703e+12  9.654726e+10   \n",
      "\n",
      "               v  \n",
      "0   1.390868e+07  \n",
      "1   1.390844e+07  \n",
      "2   1.390805e+07  \n",
      "3   1.390751e+07  \n",
      "4   1.390681e+07  \n",
      "5   1.390596e+07  \n",
      "6   1.390495e+07  \n",
      "7   1.390378e+07  \n",
      "8   1.390246e+07  \n",
      "9   1.390099e+07  \n",
      "10  1.389936e+07  \n"
     ]
    }
   ],
   "source": [
    "df = pd.DataFrame({'times': times, 'thetas': thetas, 'r': rs, 'x': xs, 'y': ys, 'v': vis_vivas})\n",
    "print(df.head(n=11))"
   ]
  },
  {
   "cell_type": "code",
   "execution_count": 200,
   "id": "criminal-chemistry",
   "metadata": {},
   "outputs": [
    {
     "name": "stdout",
     "output_type": "stream",
     "text": [
      "10008.141718521136 2.780039366255871\n"
     ]
    }
   ],
   "source": [
    "s_hr_factor = 60*60\n",
    "\n",
    "transit_duration1 = 2*r_star/df.v[0] # distance to traverse divided by velocity at theta==0\n",
    "print(transit_duration1, transit_duration1/s_hr_factor)"
   ]
  },
  {
   "cell_type": "markdown",
   "id": "downtown-pressing",
   "metadata": {},
   "source": [
    "#### 1b)"
   ]
  },
  {
   "cell_type": "code",
   "execution_count": 201,
   "id": "rolled-satin",
   "metadata": {},
   "outputs": [
    {
     "name": "stdout",
     "output_type": "stream",
     "text": [
      "6\n",
      "3787.6156251046423 1.0521154514179563\n"
     ]
    }
   ],
   "source": [
    "stop_scan = (df.y > r_star).argmax() # first index where I surpass \n",
    "print(stop_scan-1) # prove that it's at least 10 points\n",
    "transit_duration2 = df.times[stop_scan-1] - min(df.times)\n",
    "print(transit_duration2, transit_duration2/s_hr_factor)"
   ]
  },
  {
   "cell_type": "markdown",
   "id": "eastern-nightlife",
   "metadata": {},
   "source": [
    "I need the full star; this is just the y+ side of it"
   ]
  },
  {
   "cell_type": "code",
   "execution_count": 202,
   "id": "delayed-thickness",
   "metadata": {},
   "outputs": [
    {
     "name": "stdout",
     "output_type": "stream",
     "text": [
      "16\n",
      "              times    thetas             r             x             y  \\\n",
      "0      0.000000e+00  0.000000  1.311562e+12  1.311546e+12  8.780197e+09   \n",
      "1      6.312693e+02  0.006694  1.311576e+12  1.311500e+12  1.756038e+10   \n",
      "2      1.262539e+03  0.013389  1.311618e+12  1.311423e+12  2.634033e+10   \n",
      "3      1.893808e+03  0.020083  1.311688e+12  1.311316e+12  3.511986e+10   \n",
      "4      2.525077e+03  0.026776  1.311786e+12  1.311177e+12  4.389875e+10   \n",
      "5      3.156346e+03  0.033468  1.311912e+12  1.311008e+12  5.267680e+10   \n",
      "6      3.787616e+03  0.040159  1.312066e+12  1.310809e+12  6.145380e+10   \n",
      "49991  3.155778e+07  6.229670  1.312458e+12  1.310809e+12 -6.143061e+10   \n",
      "49992  3.155841e+07  6.236355  1.312248e+12  1.311009e+12 -5.265604e+10   \n",
      "49993  3.155904e+07  6.243042  1.312066e+12  1.311178e+12 -4.388005e+10   \n",
      "49994  3.155968e+07  6.249732  1.311912e+12  1.311316e+12 -3.510285e+10   \n",
      "49995  3.156031e+07  6.256423  1.311786e+12  1.311423e+12 -2.632464e+10   \n",
      "49996  3.156094e+07  6.263115  1.311688e+12  1.311500e+12 -1.754562e+10   \n",
      "49997  3.156157e+07  6.269808  1.311618e+12  1.311546e+12 -8.766000e+09   \n",
      "49998  3.156220e+07  6.276502  1.311576e+12  1.311562e+12  1.400951e+07   \n",
      "49999  3.156283e+07  6.283196  1.311562e+12  1.311546e+12  8.794207e+09   \n",
      "\n",
      "                  v  \n",
      "0      1.390868e+07  \n",
      "1      1.390844e+07  \n",
      "2      1.390805e+07  \n",
      "3      1.390751e+07  \n",
      "4      1.390681e+07  \n",
      "5      1.390596e+07  \n",
      "6      1.390495e+07  \n",
      "49991  1.390495e+07  \n",
      "49992  1.390596e+07  \n",
      "49993  1.390681e+07  \n",
      "49994  1.390751e+07  \n",
      "49995  1.390805e+07  \n",
      "49996  1.390844e+07  \n",
      "49997  1.390868e+07  \n",
      "49998  1.390875e+07  \n",
      "49999  1.390868e+07  \n",
      "3787.6156251046423 3787.6156251057982\n",
      "7575.2312502104405 2.1042309028362336\n"
     ]
    }
   ],
   "source": [
    "df_positive_x = df.loc[df.x >= 0]\n",
    "df_for_1b = df_positive_x.loc[np.abs(df_positive_x.y) <= r_star]\n",
    "print(len(df_for_1b))\n",
    "print(df_for_1b) # this is where I noticed I need to prune the last bit of the df to cut a double-counting wraparound\n",
    "df_for_1b = df_for_1b.drop(df_for_1b.tail(2).index) # drop last 2 rows\n",
    "\n",
    "time1 = df_for_1b.loc[df_for_1b.y > 0].times.max() - df_for_1b.loc[df_for_1b.y > 0].times.min()\n",
    "time2 = df_for_1b.loc[df_for_1b.y < 0].times.max() - df_for_1b.loc[df_for_1b.y < 0].times.min()\n",
    "print(time1, time2)\n",
    "transit_duration2 = time1 + time2\n",
    "print(transit_duration2, transit_duration2/s_hr_factor)"
   ]
  },
  {
   "cell_type": "markdown",
   "id": "noble-insight",
   "metadata": {},
   "source": [
    "2.1 hours the 1b way, versus 2.8 hours the 1a way. So this is a bit smaller than the transit duration from 1a (around 25%)."
   ]
  },
  {
   "cell_type": "markdown",
   "id": "after-prison",
   "metadata": {},
   "source": [
    "#### 1c)"
   ]
  },
  {
   "cell_type": "code",
   "execution_count": 203,
   "id": "plastic-method",
   "metadata": {},
   "outputs": [
    {
     "name": "stdout",
     "output_type": "stream",
     "text": [
      "47129.48452475221 13.091523479097836\n"
     ]
    }
   ],
   "source": [
    "# calculate transit duration using Eqn 14 of Transits & Occultations\n",
    "# Winn 2011 Eqn 14+16, modified from my research code\n",
    "def calc_transit_duration3(P, r_star, r_planet, b, a, inc, e, omega): \n",
    "    #print(P, r_star, r_planet, b, a, inc)\n",
    "    arg1 = np.sqrt((1+(r_planet/r_star))**2 - b**2) # k = r_planet/r_star\n",
    "    #print(\"arg1: \", arg1)\n",
    "    arg2 = (r_star / a) * (arg1 / np.sin(inc)) \n",
    "    #arg2 = (r_star / np.array(a)) * arg1\n",
    "    #print(\"arg2: \", arg2)\n",
    "    #print(np.sqrt(1-(333/365)**2))\n",
    "    arg3 = np.sqrt(1-e**2)/(1+e*np.sin(omega)) # eccentricity factor from Eqn 16\n",
    "    \n",
    "    return (P / np.pi) * np.arcsin(arg2) * arg3\n",
    "\n",
    "# housekeeping new variables\n",
    "r_planet = 1*6.37e8 # Earth's radius in cm\n",
    "b = 0 # assume perfect impact parameter\n",
    "inc = np.pi/2\n",
    "omega = np.pi/2\n",
    "\n",
    "transit_duration3 = calc_transit_duration3(period, r_star, r_planet, b, a, inc, e=0, omega=omega)\n",
    "print(transit_duration3, transit_duration3/s_hr_factor)"
   ]
  },
  {
   "cell_type": "markdown",
   "id": "horizontal-dispute",
   "metadata": {},
   "source": [
    "Compare to circular orbit"
   ]
  },
  {
   "cell_type": "code",
   "execution_count": 204,
   "id": "certain-solid",
   "metadata": {},
   "outputs": [
    {
     "name": "stdout",
     "output_type": "stream",
     "text": [
      "time elapsed:  0:00:00.022486\n"
     ]
    },
    {
     "data": {
      "image/png": "[encoded data removed]",
      "text/plain": [
       "<Figure size 432x288 with 1 Axes>"
      ]
     },
     "metadata": {
      "needs_background": "light"
     },
     "output_type": "display_data"
    }
   ],
   "source": [
    "rs_circular = []\n",
    "thetas_circular = []\n",
    "vis_vivas_circular = []\n",
    "xs_circular = []\n",
    "ys_circular = []\n",
    "a = 1.*1.496e13\n",
    "e = 0 # circular case\n",
    "\n",
    "specific_L = calc_specific_L(a, e, m_star) # recalculate specific L using new a and e\n",
    "theta_circular = theta0 # initialize theta at theta0\n",
    "r0 = a*(1-e) # recalculate new initial distance\n",
    "r_circular = r0 # and initialize r\n",
    "tf = calc_period(a, m_star) # recalculate tf\n",
    "times = np.linspace(t0, tf, 1000) # 10000 timesteps for 1a; 50000 timesteps for 1b\n",
    "delta_t = times[1]-times[0]\n",
    "\n",
    "fig = plt.figure()\n",
    "ax = fig.add_subplot(111,aspect='equal') # force 1 to 1 aspect ratio to confirm that it's a circle\n",
    "start = datetime.datetime.now()\n",
    "for times_elt in times:\n",
    "    rs_circular.append(r_circular)\n",
    "    thetas_circular.append(theta_circular)\n",
    "    delta_theta_circular = update_theta(specific_L, r_circular, delta_t)\n",
    "    theta_circular = theta_circular + delta_theta_circular\n",
    "    r_circular = calc_r(a, e, theta_circular)\n",
    "    x_circular = r*np.cos(theta_circular)\n",
    "    y_circular = r*np.sin(theta_circular)\n",
    "    xs_circular.append(x_circular)\n",
    "    ys_circular.append(y_circular)\n",
    "    #print(theta, x, y)\n",
    "    vis_vivas_circular.append(vis_viva(m_star, r, a))\n",
    "end = datetime.datetime.now()\n",
    "print(\"time elapsed: \", end-start)\n",
    "\n",
    "plt.scatter(xs_circular, ys_circular, color='purple', s=2)\n",
    "plt.scatter(0, 0, color='red')\n",
    "\n",
    "plt.show()\n",
    "\n",
    "#df = pd.DataFrame()\n",
    "#df['time'] = times\n",
    "#df['r'] = rs\n",
    "#df['theta'] = thetas\n",
    "#print(df.head())\n",
    "df_circular = pd.DataFrame({'times': times, 'thetas': thetas_circular, 'r': rs_circular, 'x': xs_circular, \n",
    "                            'y': ys_circular, 'v': vis_vivas_circular})\n"
   ]
  },
  {
   "cell_type": "code",
   "execution_count": 205,
   "id": "unlike-outdoors",
   "metadata": {},
   "outputs": [
    {
     "name": "stdout",
     "output_type": "stream",
     "text": [
      "10091.133869161305 2.803092741433696\n"
     ]
    }
   ],
   "source": [
    "transit_duration3_circular = calc_transit_duration3(period, r_star, r_planet, b, a, inc, e=333/365, omega=omega)\n",
    "print(transit_duration3_circular, transit_duration3_circular/s_hr_factor)"
   ]
  },
  {
   "cell_type": "markdown",
   "id": "handy-electricity",
   "metadata": {},
   "source": [
    "With a highly eccentric orbit, the transit duration is 13.1 hours; with a circular orbit, the transit duration is 2.8 hours, which is nearly 5x faster."
   ]
  },
  {
   "cell_type": "markdown",
   "id": "adapted-cookie",
   "metadata": {},
   "source": [
    "#### 1d) "
   ]
  },
  {
   "cell_type": "code",
   "execution_count": 206,
   "id": "liable-building",
   "metadata": {},
   "outputs": [
    {
     "name": "stdout",
     "output_type": "stream",
     "text": [
      "220112.85752108105 61.14246042252251\n",
      "0.10101010101010102 52156.799675314134 47129.48452475221 1.1066702766061784\n"
     ]
    }
   ],
   "source": [
    "omega = 3*np.pi/2.\n",
    "transit_duration_apo = calc_transit_duration3(period, r_star, r_planet, b, a, inc, e=333/365, omega=omega)\n",
    "print(transit_duration_apo, transit_duration_apo/s_hr_factor)\n",
    "\n",
    "es = np.linspace(0, 1, 100)\n",
    "for e in es:\n",
    "    duration_ecc = calc_transit_duration3(period, r_star, r_planet, b, a, inc, e=e, omega=omega)\n",
    "    duration_circ = calc_transit_duration3(period, r_star, r_planet, b, a, inc, e=0, omega=omega)\n",
    "    ratio = duration_ecc/duration_circ\n",
    "    if ratio >= 1.1:\n",
    "        print(e, duration_ecc, duration_circ, ratio)\n",
    "        break\n"
   ]
  },
  {
   "cell_type": "markdown",
   "id": "institutional-cross",
   "metadata": {},
   "source": [
    "Looks like an eccentricity of 0.1 is what's needed to start getting T_ecc's being more than 10% larger than T_circ's (at apoapse, at least). That is, this is the eccentricity needed to be able to measure a transit duration to 10% precision. If it was periapse that was instead pointed at the viewer, then there wouldn't be a non-degenerate way to get longer transit durations. That's because you can always make transit durations shorter (by having the transit on a nonzero impact parameter), but not always longer."
   ]
  },
  {
   "cell_type": "markdown",
   "id": "eleven-spain",
   "metadata": {},
   "source": [
    "### #2"
   ]
  },
  {
   "cell_type": "markdown",
   "id": "after-little",
   "metadata": {},
   "source": [
    "#### 2a)"
   ]
  },
  {
   "cell_type": "code",
   "execution_count": 207,
   "id": "referenced-services",
   "metadata": {},
   "outputs": [
    {
     "name": "stdout",
     "output_type": "stream",
     "text": [
      "1.133400695546388e-06\n"
     ]
    }
   ],
   "source": [
    "n = 5 # pc^-3\n",
    "ly_to_pc = 0.307\n",
    "r = 100*ly_to_pc\n",
    "au_to_pc = 4.848e-6\n",
    "cross_sect_r = 10*au_to_pc\n",
    "cross_sect = np.pi*cross_sect_r**2\n",
    "\n",
    "prob_lensing = n*r*cross_sect\n",
    "print(prob_lensing)"
   ]
  },
  {
   "cell_type": "code",
   "execution_count": 208,
   "id": "assisted-relevance",
   "metadata": {},
   "outputs": [
    {
     "name": "stdout",
     "output_type": "stream",
     "text": [
      "7.383717886295687e-09\n"
     ]
    }
   ],
   "source": [
    "print(cross_sect)"
   ]
  },
  {
   "cell_type": "code",
   "execution_count": 209,
   "id": "published-singing",
   "metadata": {},
   "outputs": [
    {
     "name": "stdout",
     "output_type": "stream",
     "text": [
      "0.6868425863156514\n"
     ]
    }
   ],
   "source": [
    "num_stars = n*(4./3)*np.pi*(r**3)\n",
    "print(prob_lensing*num_stars)\n"
   ]
  },
  {
   "cell_type": "markdown",
   "id": "national-projection",
   "metadata": {},
   "source": [
    "The odds of a star associated with a globular cluster being strongly lensed by another star in the cluster is 1:2 (expected value of 0.687)."
   ]
  },
  {
   "cell_type": "markdown",
   "id": "junior-norfolk",
   "metadata": {},
   "source": [
    "#### 2b)"
   ]
  },
  {
   "cell_type": "code",
   "execution_count": 210,
   "id": "successful-chicago",
   "metadata": {},
   "outputs": [
    {
     "data": {
      "text/plain": [
       "0.04885267023062304"
      ]
     },
     "execution_count": 210,
     "metadata": {},
     "output_type": "execute_result"
    }
   ],
   "source": [
    "c = 3e10 # cm/s^2\n",
    "ly_to_cm = 9.461e17\n",
    "rad_to_arcsec = 206265 # radians in an arcsec\n",
    "D_L = 10*ly_to_cm\n",
    "D_S = 100*ly_to_cm\n",
    "\n",
    "def calc_einstein_ring_radius(M_L, D_L, D_S):\n",
    "    arg1 = 4*G*M_L/(c**2)\n",
    "    arg2 = (1/D_L) - (1/D_S)\n",
    "    return np.sqrt(arg1 * arg2)\n",
    "\n",
    "calc_einstein_ring_radius(m_star, D_L, D_S) * rad_to_arcsec"
   ]
  },
  {
   "cell_type": "code",
   "execution_count": 211,
   "id": "removable-maine",
   "metadata": {},
   "outputs": [
    {
     "name": "stdout",
     "output_type": "stream",
     "text": [
      "9.461e+18 9.461e+19\n"
     ]
    }
   ],
   "source": [
    "print(D_L, D_S)"
   ]
  },
  {
   "cell_type": "code",
   "execution_count": 212,
   "id": "progressive-strain",
   "metadata": {},
   "outputs": [
    {
     "data": {
      "text/plain": [
       "2.368442063880108e-07"
      ]
     },
     "execution_count": 212,
     "metadata": {},
     "output_type": "execute_result"
    }
   ],
   "source": [
    "calc_einstein_ring_radius(m_star, D_L, D_S)"
   ]
  },
  {
   "cell_type": "markdown",
   "id": "stopped-static",
   "metadata": {},
   "source": [
    "The Einstein ring radius of the source star is 0.05\"."
   ]
  },
  {
   "cell_type": "markdown",
   "id": "municipal-fountain",
   "metadata": {},
   "source": [
    "#### 2c)"
   ]
  },
  {
   "cell_type": "code",
   "execution_count": 213,
   "id": "celtic-temperature",
   "metadata": {},
   "outputs": [
    {
     "name": "stdout",
     "output_type": "stream",
     "text": [
      "10 ly:  0.14997769760801274\n",
      "50 ly:  0.2499628293466879\n"
     ]
    }
   ],
   "source": [
    "print(\"10 ly: \", 10 * ly_to_pc * calc_einstein_ring_radius(m_star, 10*ly_to_cm, D_S) * rad_to_arcsec)\n",
    "print(\"50 ly: \", 50 * ly_to_pc * calc_einstein_ring_radius(m_star, 50*ly_to_cm, D_S) * rad_to_arcsec)"
   ]
  },
  {
   "cell_type": "code",
   "execution_count": 214,
   "id": "alternative-mediterranean",
   "metadata": {},
   "outputs": [
    {
     "name": "stdout",
     "output_type": "stream",
     "text": [
      "1000.1487047230552\n"
     ]
    }
   ],
   "source": [
    "print(5/(ly_to_pc * calc_einstein_ring_radius(m_star, 50*ly_to_cm, D_S) * rad_to_arcsec))"
   ]
  },
  {
   "cell_type": "markdown",
   "id": "manufactured-worker",
   "metadata": {},
   "source": [
    "For a star 10 ly (3.066 pc) away, an Einstein ring radius of 0.05\" corresponds to 0.15 AU. For a star 50 ly away, 0.05\" corresponds to 0.25 AU. This suggests that astronomers in the middle of a globular cluster would not be able to use microlensing to find planets beyond the snow line, since the distance would have to be much larger. For 5 AU separation, we'd need a lens 1000 ly away, but the source is much closer than that (100 lyr away). "
   ]
  },
  {
   "cell_type": "markdown",
   "id": "fluid-scott",
   "metadata": {},
   "source": [
    "### #3"
   ]
  },
  {
   "cell_type": "markdown",
   "id": "sophisticated-thousand",
   "metadata": {},
   "source": [
    "#### 3a)"
   ]
  },
  {
   "cell_type": "markdown",
   "id": "cleared-acrylic",
   "metadata": {},
   "source": [
    "| star      | has_planet  | p(D_i \\| f) |\n",
    "| --------  | ----------- | ---------- |\n",
    "| s1        | 1           | f          |\n",
    "| s2        | 1           | f          |\n",
    "| s3        | 0           | 1-f        |\n",
    "| s4        | 0           | 1-f        |"
   ]
  },
  {
   "cell_type": "markdown",
   "id": "alleged-typing",
   "metadata": {},
   "source": [
    "#### 3b)"
   ]
  },
  {
   "cell_type": "markdown",
   "id": "noble-pleasure",
   "metadata": {},
   "source": [
    "P({D} | f) = f^2 * (1-f)^2"
   ]
  },
  {
   "cell_type": "markdown",
   "id": "activated-mitchell",
   "metadata": {},
   "source": [
    "#### 3c)"
   ]
  },
  {
   "cell_type": "code",
   "execution_count": 215,
   "id": "aboriginal-madrid",
   "metadata": {},
   "outputs": [
    {
     "data": {
      "image/png": "[encoded data removed]",
      "text/plain": [
       "<Figure size 432x288 with 1 Axes>"
      ]
     },
     "metadata": {
      "needs_background": "light"
     },
     "output_type": "display_data"
    }
   ],
   "source": [
    "def calc_likelihood(f):\n",
    "    likelihood = (f**2) * (1-f)**2\n",
    "    return likelihood\n",
    "\n",
    "fs = np.linspace(0, 1, 100)\n",
    "likelihoods = calc_likelihood(fs)\n",
    "plt.scatter(fs, likelihoods, s=2)\n",
    "plt.xlabel('f')\n",
    "plt.ylabel('likelihood')\n",
    "plt.show()"
   ]
  },
  {
   "cell_type": "markdown",
   "id": "educational-observation",
   "metadata": {},
   "source": [
    "i. The likelihood goes to 0 at f of 0 and 1.\n",
    "\n",
    "ii. Maximum likelihood is at f = 0.5.\n",
    "\n",
    "iii. See plot below"
   ]
  },
  {
   "cell_type": "code",
   "execution_count": 216,
   "id": "middle-heath",
   "metadata": {},
   "outputs": [
    {
     "data": {
      "image/png": "[encoded data removed]",
      "text/plain": [
       "<Figure size 432x288 with 1 Axes>"
      ]
     },
     "metadata": {
      "needs_background": "light"
     },
     "output_type": "display_data"
    }
   ],
   "source": [
    "\"\"\"\n",
    "def gauss(x, A, mu, sigma):\n",
    "    return A*np.exp(-(x-mu)**2/(2.*sigma**2))\n",
    "\n",
    "p0 = [0.05, 0.5, 0.3]\n",
    "\n",
    "coeff, var_matrix = curve_fit(gauss, fs, likelihoods, p0=p0)\n",
    "hist_fit = gauss(fs, coeff[0], coeff[1], coeff[2])\n",
    "\"\"\"\n",
    "plt.plot(fs, likelihoods)\n",
    "#plt.plot(fs, hist_fit)\n",
    "plt.xlabel('f')\n",
    "plt.ylabel('likelihood')\n",
    "plt.show()\n"
   ]
  },
  {
   "cell_type": "markdown",
   "id": "ranking-dependence",
   "metadata": {},
   "source": [
    "iv. See plot below"
   ]
  },
  {
   "cell_type": "code",
   "execution_count": 217,
   "id": "disturbed-replacement",
   "metadata": {},
   "outputs": [
    {
     "data": {
      "image/png": "[encoded data removed]",
      "text/plain": [
       "<Figure size 432x288 with 1 Axes>"
      ]
     },
     "metadata": {
      "needs_background": "light"
     },
     "output_type": "display_data"
    }
   ],
   "source": [
    "def calc_likelihood1(f): # one detection\n",
    "    likelihood = f * (1-f)**3\n",
    "    return likelihood\n",
    "\n",
    "def calc_likelihood2(f): # three detections\n",
    "    likelihood = f**3 * (1-f)\n",
    "    return likelihood\n",
    "\n",
    "likelihoods1 = calc_likelihood1(fs)\n",
    "likelihoods2 = calc_likelihood2(fs)\n",
    "\n",
    "\"\"\"\n",
    "coeff1, var_matrix1 = curve_fit(gauss, fs, likelihoods1, p0=p0)\n",
    "coeff2, var_matrix2 = curve_fit(gauss, fs, likelihoods2, p0=p0)\n",
    "hist_fit1 = gauss(fs, coeff1[0], coeff1[1], coeff1[2])\n",
    "hist_fit2 = gauss(fs, coeff2[0], coeff2[1], coeff2[2])\n",
    "\"\"\"\n",
    "\n",
    "plt.plot(fs, likelihoods1, label=\"1 detection\")\n",
    "plt.plot(fs, likelihoods, label=\"2 detections\")\n",
    "plt.plot(fs, likelihoods2, label=\"3 detections\")\n",
    "#plt.plot(fs, hist_fit1, label=\"1 detection\")\n",
    "#plt.plot(fs, hist_fit, label=\"2 detections\")\n",
    "#plt.plot(fs, hist_fit2, label=\"3 detection\")\n",
    "plt.xlabel('f')\n",
    "plt.ylabel('likelihood')\n",
    "plt.legend(bbox_to_anchor=(1.05, 1))\n",
    "plt.show()"
   ]
  },
  {
   "cell_type": "code",
   "execution_count": 218,
   "id": "military-transaction",
   "metadata": {},
   "outputs": [
    {
     "name": "stdout",
     "output_type": "stream",
     "text": [
      "0.25252525252525254\n",
      "0.7474747474747475\n"
     ]
    }
   ],
   "source": [
    "print(fs[np.argmax(likelihoods1)])\n",
    "print(fs[np.argmax(likelihoods2)])"
   ]
  },
  {
   "cell_type": "markdown",
   "id": "electrical-desperate",
   "metadata": {},
   "source": [
    "Likelihood drops precipitously to 0 at f=0 for the single-detection case and at f=1 for the three-detection case. Likelihood asymptotes to 0 as well as f approaches 1 for the single-detection case and as f approaches 0 for the three-detection case. Maximum likelihood occurs at f=0.25 for the single-detection case and at f=0.75 for the three-detection case."
   ]
  },
  {
   "cell_type": "markdown",
   "id": "recreational-bunny",
   "metadata": {},
   "source": [
    "#### 3d)"
   ]
  },
  {
   "cell_type": "code",
   "execution_count": 219,
   "id": "premium-payment",
   "metadata": {},
   "outputs": [
    {
     "name": "stdout",
     "output_type": "stream",
     "text": [
      "0.5555555555555556\n",
      "0.23592272230222752\n",
      "confidence interval:  0.26912778274827753 0.7409732273527326\n"
     ]
    }
   ],
   "source": [
    "def fwhm(fs, likelihoods):\n",
    "    half_max = np.max(likelihoods)/2\n",
    "    truncate1 = np.where((likelihoods <= half_max) & (fs < fs[np.argmax(likelihoods)]))\n",
    "    truncate2 = np.where((likelihoods <= half_max) & (fs > fs[np.argmax(likelihoods)]))\n",
    "    width = fs[np.min(truncate2)] - fs[np.max(truncate1)]\n",
    "    \n",
    "    return width\n",
    "\n",
    "stdev = fwhm(fs, likelihoods)/np.sqrt(8*np.log(2))\n",
    "print(fwhm(fs, likelihoods))\n",
    "print(stdev)\n",
    "print(\"confidence interval: \", fs[np.argmax(likelihoods)]-stdev, fs[np.argmax(likelihoods)]+stdev)\n",
    "#print(\"this spans: \", fs[np.argmax(likelihoods)]+stdev - (fs[np.argmax(likelihoods)]-stdev))"
   ]
  },
  {
   "cell_type": "markdown",
   "id": "senior-mailman",
   "metadata": {},
   "source": [
    "#### 3e)"
   ]
  },
  {
   "cell_type": "code",
   "execution_count": 220,
   "id": "industrial-traveler",
   "metadata": {},
   "outputs": [
    {
     "name": "stdout",
     "output_type": "stream",
     "text": [
      "0.4848484848484849\n",
      "0.20589619400921677\n",
      "confidence interval:  0.04662905851603577 0.4584214465344693\n"
     ]
    }
   ],
   "source": [
    "stdev = fwhm(fs, likelihoods1)/np.sqrt(8*np.log(2))\n",
    "print(fwhm(fs, likelihoods1))\n",
    "print(stdev)\n",
    "print(\"confidence interval: \", fs[np.argmax(likelihoods1)]-stdev, fs[np.argmax(likelihoods1)]+stdev)\n",
    "#print(\"this spans: \", fs[np.argmax(likelihoods1)]+stdev - (fs[np.argmax(likelihoods1)]-stdev))"
   ]
  },
  {
   "cell_type": "code",
   "execution_count": 221,
   "id": "configured-proxy",
   "metadata": {},
   "outputs": [
    {
     "name": "stdout",
     "output_type": "stream",
     "text": [
      "0.48484848484848486\n",
      "0.20589619400921674\n",
      "confidence interval:  0.5415785534655307 0.9533709414839643\n"
     ]
    }
   ],
   "source": [
    "stdev = fwhm(fs, likelihoods2)/np.sqrt(8*np.log(2))\n",
    "print(fwhm(fs, likelihoods2))\n",
    "print(stdev)\n",
    "print(\"confidence interval: \", fs[np.argmax(likelihoods2)]-stdev, fs[np.argmax(likelihoods2)]+stdev)\n",
    "#print(\"this spans: \", fs[np.argmax(likelihoods2)]+stdev - (fs[np.argmax(likelihoods2)]-stdev))"
   ]
  },
  {
   "cell_type": "markdown",
   "id": "electric-excerpt",
   "metadata": {},
   "source": [
    "I am confident with 2:1 odds that I can call my journalist friend about 2 out of 4 of my stars hosting planets because that corresponds to a 66.7% confidence interval, which falls within the 1-sigma 68.2% confidence interval I imposed in the previous part."
   ]
  },
  {
   "cell_type": "code",
   "execution_count": null,
   "id": "statutory-institution",
   "metadata": {},
   "outputs": [],
   "source": []
  }
 ],
 "metadata": {
  "kernelspec": {
   "display_name": "Python 3 (ipykernel)",
   "language": "python",
   "name": "python3"
  },
  "language_info": {
   "codemirror_mode": {
    "name": "ipython",
    "version": 3
   },
   "file_extension": ".py",
   "mimetype": "text/x-python",
   "name": "python",
   "nbconvert_exporter": "python",
   "pygments_lexer": "ipython3",
   "version": "3.7.9"
  }
 },
 "nbformat": 4,
 "nbformat_minor": 5
}
